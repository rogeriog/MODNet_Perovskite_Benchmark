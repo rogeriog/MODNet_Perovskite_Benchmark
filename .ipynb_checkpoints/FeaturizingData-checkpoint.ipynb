{
 "cells": [
  {
   "cell_type": "code",
   "execution_count": 1,
   "id": "22587c38",
   "metadata": {},
   "outputs": [
    {
     "name": "stdout",
     "output_type": "stream",
     "text": [
      "2022-12-12 14:27:37,159 - modnet - INFO - Loaded <modnet.preprocessing.MODData object at 0x7f42d8259700> object, created with modnet version 0.1.12\n"
     ]
    }
   ],
   "source": [
    "from modnet.preprocessing import MODData\n",
    "data=MODData.load('DATAFILES/matbench_perovskites_moddata.pkl.gz')"
   ]
  },
  {
   "cell_type": "code",
   "execution_count": 36,
   "id": "aa26c6f1",
   "metadata": {},
   "outputs": [
    {
     "data": {
      "text/html": [
       "<div>\n",
       "<style scoped>\n",
       "    .dataframe tbody tr th:only-of-type {\n",
       "        vertical-align: middle;\n",
       "    }\n",
       "\n",
       "    .dataframe tbody tr th {\n",
       "        vertical-align: top;\n",
       "    }\n",
       "\n",
       "    .dataframe thead th {\n",
       "        text-align: right;\n",
       "    }\n",
       "</style>\n",
       "<table border=\"1\" class=\"dataframe\">\n",
       "  <thead>\n",
       "    <tr style=\"text-align: right;\">\n",
       "      <th></th>\n",
       "      <th>e_form</th>\n",
       "    </tr>\n",
       "  </thead>\n",
       "  <tbody>\n",
       "    <tr>\n",
       "      <th>id0</th>\n",
       "      <td>2.16</td>\n",
       "    </tr>\n",
       "    <tr>\n",
       "      <th>id1</th>\n",
       "      <td>1.52</td>\n",
       "    </tr>\n",
       "    <tr>\n",
       "      <th>id2</th>\n",
       "      <td>1.48</td>\n",
       "    </tr>\n",
       "    <tr>\n",
       "      <th>id3</th>\n",
       "      <td>1.24</td>\n",
       "    </tr>\n",
       "    <tr>\n",
       "      <th>id4</th>\n",
       "      <td>0.62</td>\n",
       "    </tr>\n",
       "    <tr>\n",
       "      <th>...</th>\n",
       "      <td>...</td>\n",
       "    </tr>\n",
       "    <tr>\n",
       "      <th>id18923</th>\n",
       "      <td>1.66</td>\n",
       "    </tr>\n",
       "    <tr>\n",
       "      <th>id18924</th>\n",
       "      <td>2.12</td>\n",
       "    </tr>\n",
       "    <tr>\n",
       "      <th>id18925</th>\n",
       "      <td>1.50</td>\n",
       "    </tr>\n",
       "    <tr>\n",
       "      <th>id18926</th>\n",
       "      <td>2.48</td>\n",
       "    </tr>\n",
       "    <tr>\n",
       "      <th>id18927</th>\n",
       "      <td>1.06</td>\n",
       "    </tr>\n",
       "  </tbody>\n",
       "</table>\n",
       "<p>18928 rows × 1 columns</p>\n",
       "</div>"
      ],
      "text/plain": [
       "         e_form\n",
       "id0        2.16\n",
       "id1        1.52\n",
       "id2        1.48\n",
       "id3        1.24\n",
       "id4        0.62\n",
       "...         ...\n",
       "id18923    1.66\n",
       "id18924    2.12\n",
       "id18925    1.50\n",
       "id18926    2.48\n",
       "id18927    1.06\n",
       "\n",
       "[18928 rows x 1 columns]"
      ]
     },
     "execution_count": 36,
     "metadata": {},
     "output_type": "execute_result"
    }
   ],
   "source": [
    "data.df_targets['e_form']"
   ]
  },
  {
   "cell_type": "code",
   "execution_count": 34,
   "id": "0625dc23",
   "metadata": {},
   "outputs": [
    {
     "name": "stdout",
     "output_type": "stream",
     "text": [
      "/bin/bash: /mnt/c/Users/roger/Documents/programas/UCLouvain/env_modnet/lib/libtinfo.so.6: no version information available (required by /bin/bash)\r\n",
      "BaggingLR_OFM.ipynb\t       OFM_customfeaturized18928.pkl\r\n",
      "DATAFILES\t\t       OFM_customfeaturized2000.pkl\r\n",
      "Featurization\t\t       OFM_customfeaturized3000.pkl\r\n",
      "FeaturizingData.ipynb\t       OFM_customfeaturized4000.pkl\r\n",
      "OFMClusterModel\t\t       OFM_customfeaturized5000.pkl\r\n",
      "OFM_customfeaturized1000.pkl   OFM_customfeaturized6000.pkl\r\n",
      "OFM_customfeaturized10000.pkl  OFM_customfeaturized7000.pkl\r\n",
      "OFM_customfeaturized11000.pkl  OFM_customfeaturized8000.pkl\r\n",
      "OFM_customfeaturized12000.pkl  OFM_customfeaturized9000.pkl\r\n",
      "OFM_customfeaturized13000.pkl  README.md\r\n",
      "OFM_customfeaturized14000.pkl  make_subsets_data.py\r\n",
      "OFM_customfeaturized15000.pkl  noOFM\r\n",
      "OFM_customfeaturized16000.pkl  run_benchmark.py\r\n",
      "OFM_customfeaturized17000.pkl  withOFM\r\n",
      "OFM_customfeaturized18000.pkl\r\n"
     ]
    }
   ],
   "source": [
    "!ls"
   ]
  },
  {
   "cell_type": "code",
   "execution_count": null,
   "id": "3800b8b4",
   "metadata": {},
   "outputs": [],
   "source": [
    "from matminer.featurizers.structure import OrbitalFieldMatrix\n",
    "import pickle\n",
    "featurizers=[OrbitalFieldMatrix(period_tag=False)]\n",
    "for featurizer in featurizers:\n",
    "    for idx in list(range(0,17000,1000)):\n",
    "        featurizer=OrbitalFieldMatrix()\n",
    "        featurizer.set_n_jobs(8)\n",
    "        #data.df_structure=data.df_structure #.sample(n=10, random_state=1)\n",
    "        print(idx,idx+1000)\n",
    "        df_feat=featurizer.featurize_dataframe(data.df_structure[idx:idx+1000], 'structure',)\n",
    "                                               #ignore_errors=True,return_errors=True)\n",
    "        # save complete featurized dataframe\n",
    "        pickle.dump(df_feat, open(f\"OFM_customfeaturized{idx+1000}.pkl\",\"wb\"))\n",
    "\n",
    "    df_feat=featurizer.featurize_dataframe(data.df_structure[17000:18000], 'structure',)\n",
    "    # save complete featurized dataframe\n",
    "    pickle.dump(df_feat, open(f\"OFM_customfeaturized18000.pkl\",\"wb\"))\n",
    "    df_feat=featurizer.featurize_dataframe(data.df_structure[18000:], 'structure',)\n",
    "    # save complete featurized dataframe\n",
    "    pickle.dump(df_feat, open(f\"OFM_customfeaturized18928.pkl\",\"wb\"))"
   ]
  },
  {
   "cell_type": "code",
   "execution_count": 35,
   "id": "5a10cf8e",
   "metadata": {},
   "outputs": [
    {
     "name": "stdout",
     "output_type": "stream",
     "text": [
      "Loaded OFM_customfeaturized1000.pkl.\n",
      "Loaded OFM_customfeaturized2000.pkl.\n",
      "Loaded OFM_customfeaturized3000.pkl.\n",
      "Loaded OFM_customfeaturized4000.pkl.\n",
      "Loaded OFM_customfeaturized5000.pkl.\n",
      "Loaded OFM_customfeaturized6000.pkl.\n",
      "Loaded OFM_customfeaturized7000.pkl.\n",
      "Loaded OFM_customfeaturized8000.pkl.\n",
      "Loaded OFM_customfeaturized9000.pkl.\n",
      "Loaded OFM_customfeaturized10000.pkl.\n",
      "Loaded OFM_customfeaturized11000.pkl.\n",
      "Loaded OFM_customfeaturized12000.pkl.\n",
      "Loaded OFM_customfeaturized13000.pkl.\n",
      "Loaded OFM_customfeaturized14000.pkl.\n",
      "Loaded OFM_customfeaturized15000.pkl.\n",
      "Loaded OFM_customfeaturized16000.pkl.\n",
      "Loaded OFM_customfeaturized17000.pkl.\n",
      "Loaded OFM_customfeaturized18000.pkl.\n",
      "Loaded OFM_customfeaturized18928.pkl.\n"
     ]
    },
    {
     "data": {
      "text/html": [
       "<div>\n",
       "<style scoped>\n",
       "    .dataframe tbody tr th:only-of-type {\n",
       "        vertical-align: middle;\n",
       "    }\n",
       "\n",
       "    .dataframe tbody tr th {\n",
       "        vertical-align: top;\n",
       "    }\n",
       "\n",
       "    .dataframe thead th {\n",
       "        text-align: right;\n",
       "    }\n",
       "</style>\n",
       "<table border=\"1\" class=\"dataframe\">\n",
       "  <thead>\n",
       "    <tr style=\"text-align: right;\">\n",
       "      <th></th>\n",
       "      <th>structure</th>\n",
       "      <th>species</th>\n",
       "      <th>OFM: s^1 - s^1</th>\n",
       "      <th>OFM: s^1 - s^2</th>\n",
       "      <th>OFM: s^1 - p^1</th>\n",
       "      <th>OFM: s^1 - p^2</th>\n",
       "      <th>OFM: s^1 - p^3</th>\n",
       "      <th>OFM: s^1 - p^4</th>\n",
       "      <th>OFM: s^1 - p^5</th>\n",
       "      <th>OFM: s^1 - p^6</th>\n",
       "      <th>...</th>\n",
       "      <th>OFM: f^14 - f^5</th>\n",
       "      <th>OFM: f^14 - f^6</th>\n",
       "      <th>OFM: f^14 - f^7</th>\n",
       "      <th>OFM: f^14 - f^8</th>\n",
       "      <th>OFM: f^14 - f^9</th>\n",
       "      <th>OFM: f^14 - f^10</th>\n",
       "      <th>OFM: f^14 - f^11</th>\n",
       "      <th>OFM: f^14 - f^12</th>\n",
       "      <th>OFM: f^14 - f^13</th>\n",
       "      <th>OFM: f^14 - f^14</th>\n",
       "    </tr>\n",
       "    <tr>\n",
       "      <th>id</th>\n",
       "      <th></th>\n",
       "      <th></th>\n",
       "      <th></th>\n",
       "      <th></th>\n",
       "      <th></th>\n",
       "      <th></th>\n",
       "      <th></th>\n",
       "      <th></th>\n",
       "      <th></th>\n",
       "      <th></th>\n",
       "      <th></th>\n",
       "      <th></th>\n",
       "      <th></th>\n",
       "      <th></th>\n",
       "      <th></th>\n",
       "      <th></th>\n",
       "      <th></th>\n",
       "      <th></th>\n",
       "      <th></th>\n",
       "      <th></th>\n",
       "      <th></th>\n",
       "    </tr>\n",
       "  </thead>\n",
       "  <tbody>\n",
       "    <tr>\n",
       "      <th>id0</th>\n",
       "      <td>[[0. 0. 0.] Rh, [1.97726555 1.97726555 1.97726...</td>\n",
       "      <td>5</td>\n",
       "      <td>0.000000e+00</td>\n",
       "      <td>0.227089</td>\n",
       "      <td>0.0</td>\n",
       "      <td>0.0</td>\n",
       "      <td>0.227089</td>\n",
       "      <td>0.000000</td>\n",
       "      <td>0.0</td>\n",
       "      <td>0.000000</td>\n",
       "      <td>...</td>\n",
       "      <td>0.0</td>\n",
       "      <td>0.0</td>\n",
       "      <td>0.0</td>\n",
       "      <td>0.0</td>\n",
       "      <td>0.0</td>\n",
       "      <td>0.0</td>\n",
       "      <td>0.0</td>\n",
       "      <td>0.0</td>\n",
       "      <td>0.0</td>\n",
       "      <td>0.000000</td>\n",
       "    </tr>\n",
       "    <tr>\n",
       "      <th>id1</th>\n",
       "      <td>[[2.54041798 0.         0.        ] Hf, [1.020...</td>\n",
       "      <td>5</td>\n",
       "      <td>0.000000e+00</td>\n",
       "      <td>0.000000</td>\n",
       "      <td>0.0</td>\n",
       "      <td>0.0</td>\n",
       "      <td>0.000000</td>\n",
       "      <td>0.000000</td>\n",
       "      <td>0.0</td>\n",
       "      <td>0.000000</td>\n",
       "      <td>...</td>\n",
       "      <td>0.0</td>\n",
       "      <td>0.0</td>\n",
       "      <td>0.0</td>\n",
       "      <td>0.0</td>\n",
       "      <td>0.0</td>\n",
       "      <td>0.0</td>\n",
       "      <td>0.0</td>\n",
       "      <td>0.0</td>\n",
       "      <td>0.0</td>\n",
       "      <td>0.008017</td>\n",
       "    </tr>\n",
       "    <tr>\n",
       "      <th>id2</th>\n",
       "      <td>[[0.60790913 0.         0.        ] Re, [2.186...</td>\n",
       "      <td>5</td>\n",
       "      <td>0.000000e+00</td>\n",
       "      <td>0.000000</td>\n",
       "      <td>0.0</td>\n",
       "      <td>0.0</td>\n",
       "      <td>0.000000</td>\n",
       "      <td>0.000000</td>\n",
       "      <td>0.0</td>\n",
       "      <td>0.000000</td>\n",
       "      <td>...</td>\n",
       "      <td>0.0</td>\n",
       "      <td>0.0</td>\n",
       "      <td>0.0</td>\n",
       "      <td>0.0</td>\n",
       "      <td>0.0</td>\n",
       "      <td>0.0</td>\n",
       "      <td>0.0</td>\n",
       "      <td>0.0</td>\n",
       "      <td>0.0</td>\n",
       "      <td>0.000475</td>\n",
       "    </tr>\n",
       "    <tr>\n",
       "      <th>id3</th>\n",
       "      <td>[[2.83091357 0.         0.        ] W, [2.6573...</td>\n",
       "      <td>5</td>\n",
       "      <td>0.000000e+00</td>\n",
       "      <td>0.000000</td>\n",
       "      <td>0.0</td>\n",
       "      <td>0.0</td>\n",
       "      <td>0.000000</td>\n",
       "      <td>0.000000</td>\n",
       "      <td>0.0</td>\n",
       "      <td>0.000000</td>\n",
       "      <td>...</td>\n",
       "      <td>0.0</td>\n",
       "      <td>0.0</td>\n",
       "      <td>0.0</td>\n",
       "      <td>0.0</td>\n",
       "      <td>0.0</td>\n",
       "      <td>0.0</td>\n",
       "      <td>0.0</td>\n",
       "      <td>0.0</td>\n",
       "      <td>0.0</td>\n",
       "      <td>0.038130</td>\n",
       "    </tr>\n",
       "    <tr>\n",
       "      <th>id4</th>\n",
       "      <td>[[0.00518937 0.         0.        ] Bi, [2.172...</td>\n",
       "      <td>5</td>\n",
       "      <td>0.000000e+00</td>\n",
       "      <td>0.000000</td>\n",
       "      <td>0.0</td>\n",
       "      <td>0.0</td>\n",
       "      <td>0.000000</td>\n",
       "      <td>0.000000</td>\n",
       "      <td>0.0</td>\n",
       "      <td>0.000000</td>\n",
       "      <td>...</td>\n",
       "      <td>0.0</td>\n",
       "      <td>0.0</td>\n",
       "      <td>0.0</td>\n",
       "      <td>0.0</td>\n",
       "      <td>0.0</td>\n",
       "      <td>0.0</td>\n",
       "      <td>0.0</td>\n",
       "      <td>0.0</td>\n",
       "      <td>0.0</td>\n",
       "      <td>0.000056</td>\n",
       "    </tr>\n",
       "    <tr>\n",
       "      <th>...</th>\n",
       "      <td>...</td>\n",
       "      <td>...</td>\n",
       "      <td>...</td>\n",
       "      <td>...</td>\n",
       "      <td>...</td>\n",
       "      <td>...</td>\n",
       "      <td>...</td>\n",
       "      <td>...</td>\n",
       "      <td>...</td>\n",
       "      <td>...</td>\n",
       "      <td>...</td>\n",
       "      <td>...</td>\n",
       "      <td>...</td>\n",
       "      <td>...</td>\n",
       "      <td>...</td>\n",
       "      <td>...</td>\n",
       "      <td>...</td>\n",
       "      <td>...</td>\n",
       "      <td>...</td>\n",
       "      <td>...</td>\n",
       "      <td>...</td>\n",
       "    </tr>\n",
       "    <tr>\n",
       "      <th>id18923</th>\n",
       "      <td>[[4.44077598 0.         0.        ] Rb, [2.652...</td>\n",
       "      <td>5</td>\n",
       "      <td>2.440094e-07</td>\n",
       "      <td>0.184377</td>\n",
       "      <td>0.0</td>\n",
       "      <td>0.0</td>\n",
       "      <td>0.000000</td>\n",
       "      <td>0.181689</td>\n",
       "      <td>0.0</td>\n",
       "      <td>0.002688</td>\n",
       "      <td>...</td>\n",
       "      <td>0.0</td>\n",
       "      <td>0.0</td>\n",
       "      <td>0.0</td>\n",
       "      <td>0.0</td>\n",
       "      <td>0.0</td>\n",
       "      <td>0.0</td>\n",
       "      <td>0.0</td>\n",
       "      <td>0.0</td>\n",
       "      <td>0.0</td>\n",
       "      <td>0.000000</td>\n",
       "    </tr>\n",
       "    <tr>\n",
       "      <th>id18924</th>\n",
       "      <td>[[4.56913824e-03 7.21569024e-19 0.00000000e+00...</td>\n",
       "      <td>5</td>\n",
       "      <td>3.721372e-12</td>\n",
       "      <td>0.194835</td>\n",
       "      <td>0.0</td>\n",
       "      <td>0.0</td>\n",
       "      <td>0.064983</td>\n",
       "      <td>0.129850</td>\n",
       "      <td>0.0</td>\n",
       "      <td>0.000000</td>\n",
       "      <td>...</td>\n",
       "      <td>0.0</td>\n",
       "      <td>0.0</td>\n",
       "      <td>0.0</td>\n",
       "      <td>0.0</td>\n",
       "      <td>0.0</td>\n",
       "      <td>0.0</td>\n",
       "      <td>0.0</td>\n",
       "      <td>0.0</td>\n",
       "      <td>0.0</td>\n",
       "      <td>0.000000</td>\n",
       "    </tr>\n",
       "    <tr>\n",
       "      <th>id18925</th>\n",
       "      <td>[[0.0040044 0.        0.       ] Zn, [1.821570...</td>\n",
       "      <td>5</td>\n",
       "      <td>0.000000e+00</td>\n",
       "      <td>0.000000</td>\n",
       "      <td>0.0</td>\n",
       "      <td>0.0</td>\n",
       "      <td>0.000000</td>\n",
       "      <td>0.000000</td>\n",
       "      <td>0.0</td>\n",
       "      <td>0.000000</td>\n",
       "      <td>...</td>\n",
       "      <td>0.0</td>\n",
       "      <td>0.0</td>\n",
       "      <td>0.0</td>\n",
       "      <td>0.0</td>\n",
       "      <td>0.0</td>\n",
       "      <td>0.0</td>\n",
       "      <td>0.0</td>\n",
       "      <td>0.0</td>\n",
       "      <td>0.0</td>\n",
       "      <td>0.000000</td>\n",
       "    </tr>\n",
       "    <tr>\n",
       "      <th>id18926</th>\n",
       "      <td>[[0. 0. 0.] Ca, [2.16744896 2.16744896 2.16744...</td>\n",
       "      <td>5</td>\n",
       "      <td>0.000000e+00</td>\n",
       "      <td>0.000000</td>\n",
       "      <td>0.0</td>\n",
       "      <td>0.0</td>\n",
       "      <td>0.000000</td>\n",
       "      <td>0.000000</td>\n",
       "      <td>0.0</td>\n",
       "      <td>0.000000</td>\n",
       "      <td>...</td>\n",
       "      <td>0.0</td>\n",
       "      <td>0.0</td>\n",
       "      <td>0.0</td>\n",
       "      <td>0.0</td>\n",
       "      <td>0.0</td>\n",
       "      <td>0.0</td>\n",
       "      <td>0.0</td>\n",
       "      <td>0.0</td>\n",
       "      <td>0.0</td>\n",
       "      <td>0.000000</td>\n",
       "    </tr>\n",
       "    <tr>\n",
       "      <th>id18927</th>\n",
       "      <td>[[1.23999712 4.09195837 4.09195837] Al, [2.500...</td>\n",
       "      <td>5</td>\n",
       "      <td>0.000000e+00</td>\n",
       "      <td>0.000000</td>\n",
       "      <td>0.0</td>\n",
       "      <td>0.0</td>\n",
       "      <td>0.000000</td>\n",
       "      <td>0.000000</td>\n",
       "      <td>0.0</td>\n",
       "      <td>0.000000</td>\n",
       "      <td>...</td>\n",
       "      <td>0.0</td>\n",
       "      <td>0.0</td>\n",
       "      <td>0.0</td>\n",
       "      <td>0.0</td>\n",
       "      <td>0.0</td>\n",
       "      <td>0.0</td>\n",
       "      <td>0.0</td>\n",
       "      <td>0.0</td>\n",
       "      <td>0.0</td>\n",
       "      <td>0.000000</td>\n",
       "    </tr>\n",
       "  </tbody>\n",
       "</table>\n",
       "<p>18928 rows × 1026 columns</p>\n",
       "</div>"
      ],
      "text/plain": [
       "                                                 structure  species  \\\n",
       "id                                                                    \n",
       "id0      [[0. 0. 0.] Rh, [1.97726555 1.97726555 1.97726...        5   \n",
       "id1      [[2.54041798 0.         0.        ] Hf, [1.020...        5   \n",
       "id2      [[0.60790913 0.         0.        ] Re, [2.186...        5   \n",
       "id3      [[2.83091357 0.         0.        ] W, [2.6573...        5   \n",
       "id4      [[0.00518937 0.         0.        ] Bi, [2.172...        5   \n",
       "...                                                    ...      ...   \n",
       "id18923  [[4.44077598 0.         0.        ] Rb, [2.652...        5   \n",
       "id18924  [[4.56913824e-03 7.21569024e-19 0.00000000e+00...        5   \n",
       "id18925  [[0.0040044 0.        0.       ] Zn, [1.821570...        5   \n",
       "id18926  [[0. 0. 0.] Ca, [2.16744896 2.16744896 2.16744...        5   \n",
       "id18927  [[1.23999712 4.09195837 4.09195837] Al, [2.500...        5   \n",
       "\n",
       "         OFM: s^1 - s^1  OFM: s^1 - s^2  OFM: s^1 - p^1  OFM: s^1 - p^2  \\\n",
       "id                                                                        \n",
       "id0        0.000000e+00        0.227089             0.0             0.0   \n",
       "id1        0.000000e+00        0.000000             0.0             0.0   \n",
       "id2        0.000000e+00        0.000000             0.0             0.0   \n",
       "id3        0.000000e+00        0.000000             0.0             0.0   \n",
       "id4        0.000000e+00        0.000000             0.0             0.0   \n",
       "...                 ...             ...             ...             ...   \n",
       "id18923    2.440094e-07        0.184377             0.0             0.0   \n",
       "id18924    3.721372e-12        0.194835             0.0             0.0   \n",
       "id18925    0.000000e+00        0.000000             0.0             0.0   \n",
       "id18926    0.000000e+00        0.000000             0.0             0.0   \n",
       "id18927    0.000000e+00        0.000000             0.0             0.0   \n",
       "\n",
       "         OFM: s^1 - p^3  OFM: s^1 - p^4  OFM: s^1 - p^5  OFM: s^1 - p^6  ...  \\\n",
       "id                                                                       ...   \n",
       "id0            0.227089        0.000000             0.0        0.000000  ...   \n",
       "id1            0.000000        0.000000             0.0        0.000000  ...   \n",
       "id2            0.000000        0.000000             0.0        0.000000  ...   \n",
       "id3            0.000000        0.000000             0.0        0.000000  ...   \n",
       "id4            0.000000        0.000000             0.0        0.000000  ...   \n",
       "...                 ...             ...             ...             ...  ...   \n",
       "id18923        0.000000        0.181689             0.0        0.002688  ...   \n",
       "id18924        0.064983        0.129850             0.0        0.000000  ...   \n",
       "id18925        0.000000        0.000000             0.0        0.000000  ...   \n",
       "id18926        0.000000        0.000000             0.0        0.000000  ...   \n",
       "id18927        0.000000        0.000000             0.0        0.000000  ...   \n",
       "\n",
       "         OFM: f^14 - f^5  OFM: f^14 - f^6  OFM: f^14 - f^7  OFM: f^14 - f^8  \\\n",
       "id                                                                            \n",
       "id0                  0.0              0.0              0.0              0.0   \n",
       "id1                  0.0              0.0              0.0              0.0   \n",
       "id2                  0.0              0.0              0.0              0.0   \n",
       "id3                  0.0              0.0              0.0              0.0   \n",
       "id4                  0.0              0.0              0.0              0.0   \n",
       "...                  ...              ...              ...              ...   \n",
       "id18923              0.0              0.0              0.0              0.0   \n",
       "id18924              0.0              0.0              0.0              0.0   \n",
       "id18925              0.0              0.0              0.0              0.0   \n",
       "id18926              0.0              0.0              0.0              0.0   \n",
       "id18927              0.0              0.0              0.0              0.0   \n",
       "\n",
       "         OFM: f^14 - f^9  OFM: f^14 - f^10  OFM: f^14 - f^11  \\\n",
       "id                                                             \n",
       "id0                  0.0               0.0               0.0   \n",
       "id1                  0.0               0.0               0.0   \n",
       "id2                  0.0               0.0               0.0   \n",
       "id3                  0.0               0.0               0.0   \n",
       "id4                  0.0               0.0               0.0   \n",
       "...                  ...               ...               ...   \n",
       "id18923              0.0               0.0               0.0   \n",
       "id18924              0.0               0.0               0.0   \n",
       "id18925              0.0               0.0               0.0   \n",
       "id18926              0.0               0.0               0.0   \n",
       "id18927              0.0               0.0               0.0   \n",
       "\n",
       "         OFM: f^14 - f^12  OFM: f^14 - f^13  OFM: f^14 - f^14  \n",
       "id                                                             \n",
       "id0                   0.0               0.0          0.000000  \n",
       "id1                   0.0               0.0          0.008017  \n",
       "id2                   0.0               0.0          0.000475  \n",
       "id3                   0.0               0.0          0.038130  \n",
       "id4                   0.0               0.0          0.000056  \n",
       "...                   ...               ...               ...  \n",
       "id18923               0.0               0.0          0.000000  \n",
       "id18924               0.0               0.0          0.000000  \n",
       "id18925               0.0               0.0          0.000000  \n",
       "id18926               0.0               0.0          0.000000  \n",
       "id18927               0.0               0.0          0.000000  \n",
       "\n",
       "[18928 rows x 1026 columns]"
      ]
     },
     "execution_count": 35,
     "metadata": {},
     "output_type": "execute_result"
    }
   ],
   "source": [
    "import pickle, glob\n",
    "OFMs=[]\n",
    "for idx in list(range(0,18000,1000))+[17928]:\n",
    "    file=f\"OFM_customfeaturized{idx+1000}.pkl\"\n",
    "    OFM=pickle.load(open(file,\"rb\"))\n",
    "    OFMs.append(OFM)\n",
    "    print(f\"Loaded {file}.\")\n",
    "import pandas as pd\n",
    "featurizedOFM=pd.concat(OFMs,axis=0)\n",
    "featurizedOFM"
   ]
  },
  {
   "cell_type": "markdown",
   "id": "85db3cb8",
   "metadata": {},
   "source": [
    "###  Lets find the optimal PCA components to represent the OFM data."
   ]
  },
  {
   "cell_type": "code",
   "execution_count": 39,
   "id": "b5cba681",
   "metadata": {},
   "outputs": [
    {
     "data": {
      "image/png": "[encoded data removed]",
      "text/plain": [
       "<Figure size 640x480 with 1 Axes>"
      ]
     },
     "metadata": {},
     "output_type": "display_data"
    }
   ],
   "source": [
    "from sklearn.preprocessing import StandardScaler\n",
    "from sklearn.decomposition import PCA\n",
    "import matplotlib.pyplot as plt\n",
    "# Separating the features\n",
    "X=featurizedOFM.drop(['species','structure'],axis=1)\n",
    "Xcolumns=X.columns\n",
    "# Standardizing the features\n",
    "X = StandardScaler().fit_transform(X)\n",
    "# Separating out the target ## !!! ideally I should implement this for the train set only. !!!\n",
    "y = data.df_targets['e_form'] \n",
    "\n",
    "pca = PCA().fit(X)\n",
    "plt.plot(np.cumsum(pca.explained_variance_ratio_))\n",
    "plt.xlabel('number of components')\n",
    "plt.ylabel('cumulative explained variance');"
   ]
  },
  {
   "cell_type": "markdown",
   "id": "c44727ca",
   "metadata": {},
   "source": [
    "### So around 200 components we have over 99% of the variance described."
   ]
  },
  {
   "cell_type": "code",
   "execution_count": 50,
   "id": "0b1db8f4",
   "metadata": {},
   "outputs": [
    {
     "data": {
      "text/plain": [
       "0.9941819169273535"
      ]
     },
     "execution_count": 50,
     "metadata": {},
     "output_type": "execute_result"
    }
   ],
   "source": [
    "np.cumsum(pca.explained_variance_ratio_)[200]"
   ]
  },
  {
   "cell_type": "code",
   "execution_count": 77,
   "id": "a182c0d9",
   "metadata": {},
   "outputs": [],
   "source": [
    "n_components=200\n",
    "pca = PCA(n_components=n_components)\n",
    "principalComponents = pca.fit_transform(X)\n",
    "OFM_PC_df = pd.DataFrame(data = principalComponents\n",
    "             , columns = [f'OFM|PC_{idx+1}' for idx in range(n_components) ])\n",
    "OFM_PC_df"
   ]
  },
  {
   "cell_type": "code",
   "execution_count": 75,
   "id": "d7389d05",
   "metadata": {},
   "outputs": [],
   "source": [
    "### we should save the OFM components to retrieve the chemical information in each PC\n",
    "n_components=200\n",
    "OFM_PCAcomponents = pd.DataFrame(pca.components_[:n_components], \n",
    "                                 columns=Xcolumns,\n",
    "                                 index=[f'OFM|PC_{idx+1}' for idx in range(n_components)])\n",
    "import pickle\n",
    "pickle.dump(OFM_PCAcomponents,open(\"OFM_PCAcomponents.pkl\",\"wb\"))\n",
    "OFM_PCAcomponents"
   ]
  },
  {
   "cell_type": "code",
   "execution_count": 5,
   "id": "003a228d",
   "metadata": {},
   "outputs": [
    {
     "name": "stdout",
     "output_type": "stream",
     "text": [
      "/bin/bash: /mnt/c/Users/roger/Documents/programas/UCLouvain/env_modnet/lib/libtinfo.so.6: no version information available (required by /bin/bash)\r\n",
      "BaggingLR_OFM.ipynb\t       OFM_customfeaturized18928.pkl\r\n",
      "DATAFILES\t\t       OFM_customfeaturized2000.pkl\r\n",
      "Featurization\t\t       OFM_customfeaturized3000.pkl\r\n",
      "FeaturizingData.ipynb\t       OFM_customfeaturized4000.pkl\r\n",
      "OFMClusterModel\t\t       OFM_customfeaturized5000.pkl\r\n",
      "OFM_PCAcomponents.pkl\t       OFM_customfeaturized6000.pkl\r\n",
      "OFM_customfeaturized1000.pkl   OFM_customfeaturized7000.pkl\r\n",
      "OFM_customfeaturized10000.pkl  OFM_customfeaturized8000.pkl\r\n",
      "OFM_customfeaturized11000.pkl  OFM_customfeaturized9000.pkl\r\n",
      "OFM_customfeaturized12000.pkl  README.md\r\n",
      "OFM_customfeaturized13000.pkl  ase_structures.pkl\r\n",
      "OFM_customfeaturized14000.pkl  make_subsets_data.py\r\n",
      "OFM_customfeaturized15000.pkl  noOFM\r\n",
      "OFM_customfeaturized16000.pkl  run_benchmark.py\r\n",
      "OFM_customfeaturized17000.pkl  withOFM\r\n",
      "OFM_customfeaturized18000.pkl\r\n"
     ]
    }
   ],
   "source": [
    "!ls"
   ]
  },
  {
   "cell_type": "code",
   "execution_count": 64,
   "id": "f6f64dd4",
   "metadata": {},
   "outputs": [
    {
     "data": {
      "text/plain": [
       "(18928, 1024)"
      ]
     },
     "execution_count": 64,
     "metadata": {},
     "output_type": "execute_result"
    }
   ],
   "source": [
    "## we still can access each component allowing to restore the original data\n",
    "pca.components_[0].shape\n",
    "# X.shape"
   ]
  },
  {
   "cell_type": "markdown",
   "id": "b6693c53",
   "metadata": {},
   "source": [
    "### Now to featurize with SOAP. I will try to make the columns a bit more meaningful."
   ]
  },
  {
   "cell_type": "code",
   "execution_count": 30,
   "id": "c76b1941",
   "metadata": {},
   "outputs": [
    {
     "data": {
      "text/plain": [
       "[[array([ 0.00024594,  0.00463535, -0.00517914, ...,  0.00927274,\n",
       "         -0.0251723 ,  0.06833416]),\n",
       "  array([ 309288,  309289,  309290, ..., 2115117, 2115118, 2115119])],\n",
       " [array([ 0.00071318,  0.00778535, -0.0035089 , ...,  0.14981408,\n",
       "         -0.13816099,  0.13395656]),\n",
       "  array([ 359268,  359269,  359270, ..., 2626397, 2626398, 2626399])],\n",
       " [array([ 0.00041332,  0.00405851, -0.00116177, ...,  0.10758495,\n",
       "         -0.08258327,  0.06553132]),\n",
       "  array([ 359268,  359269,  359270, ..., 2687633, 2687634, 2687635])]]"
      ]
     },
     "execution_count": 30,
     "metadata": {},
     "output_type": "execute_result"
    }
   ],
   "source": [
    "import numpy as np\n",
    "from dscribe.descriptors import SOAP\n",
    "import pickle\n",
    "import pymatgen\n",
    "from pymatgen.io.ase import AseAtomsAdaptor\n",
    "from ase.data import atomic_numbers\n",
    "import os\n",
    "import pandas as pd\n",
    "structures=data.df_structure['structure']\n",
    "try:\n",
    "    structures_ase=pickle.load(open(\"ase_structures.pkl\",\"rb\"))\n",
    "except:\n",
    "    structures_ase=list(map(AseAtomsAdaptor.get_atoms,structures))\n",
    "    pickle.dump(structures_ase,open(\"ase_structures.pkl\",\"wb\"))\n",
    "    \n",
    "## declaring the SOAP featurizer\n",
    "species=list(atomic_numbers.keys())[1:] ## all chemical species\n",
    "nmax=8\n",
    "lmax=6\n",
    "rcut=5\n",
    "average_soap = SOAP(species=species,\n",
    "rcut=rcut, nmax=nmax, lmax=lmax,\n",
    "    average=\"inner\",\n",
    "    crossover=True,\n",
    "    periodic=True,\n",
    "    sparse=False\n",
    ")\n",
    "soap_results = average_soap.create(structures_ase[:3])\n",
    "results=[]\n",
    "for i in range(len(soap_results)):\n",
    "    ## SOAP data is too large and sparse, its better to work with values and index\n",
    "    results.append([soap_results[i][soap_results[i].nonzero()[0]],\n",
    "                     soap_results[i].nonzero()[0]])\n",
    "results\n",
    "# type(results)\n",
    "# results=pd.DataFrame.sparse.from_spmatrix(results)\n",
    "# ncpus=os.cpu_count()\n",
    "# ## this is very memory intensive has to be splitted\n",
    "# slices=[None]+list(range(100,len(structures_ase),100))+[None]\n",
    "# for i, slice1 in list(enumerate(slices))[:-1]:\n",
    "#     results = average_soap.create(structures_ase[slice1:slices[i+1]], n_jobs=ncpus)\n",
    "#     pickle.dump(results, open(f\"SOAP_perovsk_featurized_{i}.pkl\",\"wb\"))\n",
    "#     print(f\"{i} out of {len(slices)-2} subsets to complete SOAP featurization\")"
   ]
  },
  {
   "cell_type": "code",
   "execution_count": 31,
   "id": "09bd6406",
   "metadata": {},
   "outputs": [
    {
     "name": "stderr",
     "output_type": "stream",
     "text": [
      "/tmp/ipykernel_16182/3537502687.py:1: VisibleDeprecationWarning: Creating an ndarray from ragged nested sequences (which is a list-or-tuple of lists-or-tuples-or ndarrays with different lengths or shapes) is deprecated. If you meant to do this, you must specify 'dtype=object' when creating the ndarray.\n",
      "  np_results=np.array(results)\n"
     ]
    },
    {
     "data": {
      "text/plain": [
       "array([[array([ 0.00024594,  0.00463535, -0.00517914, ...,  0.00927274,\n",
       "               -0.0251723 ,  0.06833416])                              ,\n",
       "        array([ 309288,  309289,  309290, ..., 2115117, 2115118, 2115119])],\n",
       "       [array([ 0.00071318,  0.00778535, -0.0035089 , ...,  0.14981408,\n",
       "               -0.13816099,  0.13395656])                              ,\n",
       "        array([ 359268,  359269,  359270, ..., 2626397, 2626398, 2626399])],\n",
       "       [array([ 0.00041332,  0.00405851, -0.00116177, ...,  0.10758495,\n",
       "               -0.08258327,  0.06553132])                              ,\n",
       "        array([ 359268,  359269,  359270, ..., 2687633, 2687634, 2687635])]],\n",
       "      dtype=object)"
      ]
     },
     "execution_count": 31,
     "metadata": {},
     "output_type": "execute_result"
    }
   ],
   "source": [
    "np_results=np.array(results)\n",
    "np_results"
   ]
  },
  {
   "cell_type": "code",
   "execution_count": 32,
   "id": "67089e95",
   "metadata": {},
   "outputs": [
    {
     "data": {
      "text/plain": [
       "(3, 2)"
      ]
     },
     "execution_count": 32,
     "metadata": {},
     "output_type": "execute_result"
    }
   ],
   "source": [
    "np_results.shape"
   ]
  },
  {
   "cell_type": "code",
   "execution_count": 22,
   "id": "623f0812",
   "metadata": {},
   "outputs": [
    {
     "ename": "ValueError",
     "evalue": "could not broadcast input array from shape (2,2100) into shape (3122280,)",
     "output_type": "error",
     "traceback": [
      "\u001b[0;31m---------------------------------------------------------------------------\u001b[0m",
      "\u001b[0;31mValueError\u001b[0m                                Traceback (most recent call last)",
      "Input \u001b[0;32mIn [22]\u001b[0m, in \u001b[0;36m<cell line: 2>\u001b[0;34m()\u001b[0m\n\u001b[1;32m      1\u001b[0m results0\u001b[38;5;241m=\u001b[39m[results[\u001b[38;5;241m0\u001b[39m][results[\u001b[38;5;241m0\u001b[39m]\u001b[38;5;241m.\u001b[39mnonzero()[\u001b[38;5;241m0\u001b[39m]],results[\u001b[38;5;241m0\u001b[39m]\u001b[38;5;241m.\u001b[39mnonzero()[\u001b[38;5;241m0\u001b[39m]]\n\u001b[0;32m----> 2\u001b[0m results[\u001b[38;5;241m0\u001b[39m]\u001b[38;5;241m=\u001b[39mnp\u001b[38;5;241m.\u001b[39marray(results0)\n",
      "\u001b[0;31mValueError\u001b[0m: could not broadcast input array from shape (2,2100) into shape (3122280,)"
     ]
    }
   ],
   "source": [
    "results0=[results[0][results[0].nonzero()[0]],results[0].nonzero()[0]]\n",
    "results[0]=np.array(results0)"
   ]
  },
  {
   "cell_type": "markdown",
   "id": "a49c0607",
   "metadata": {},
   "source": [
    "## Now for the MEGNet"
   ]
  },
  {
   "cell_type": "code",
   "execution_count": 5,
   "id": "df72a33a",
   "metadata": {},
   "outputs": [
    {
     "name": "stdout",
     "output_type": "stream",
     "text": [
      "Processing slice 1 out of 20\n"
     ]
    },
    {
     "name": "stderr",
     "output_type": "stream",
     "text": [
      "2022-12-12 14:58:41.560868: E tensorflow/stream_executor/cuda/cuda_driver.cc:265] failed call to cuInit: CUDA_ERROR_NO_DEVICE: no CUDA-capable device is detected\n",
      "2022-12-12 14:58:41.560921: I tensorflow/stream_executor/cuda/cuda_diagnostics.cc:156] kernel driver does not appear to be running on this host (ROGERIO): /proc/driver/nvidia/version does not exist\n",
      "2022-12-12 14:58:41.565090: I tensorflow/core/platform/cpu_feature_guard.cc:193] This TensorFlow binary is optimized with oneAPI Deep Neural Network Library (oneDNN) to use the following CPU instructions in performance-critical operations:  AVX2 FMA\n",
      "To enable them in other operations, rebuild TensorFlow with the appropriate compiler flags.\n"
     ]
    },
    {
     "name": "stdout",
     "output_type": "stream",
     "text": [
      "Features calculated for model Eform_MP_2019.\n",
      "Features calculated for model Efermi_MP_2019.\n",
      "Features calculated for model Bandgap_MP_2018.\n",
      "Features calculated for model logK_MP_2019.\n",
      "Features calculated for model logG_MP_2019.\n",
      "Processing slice 2 out of 20\n",
      "Features calculated for model Eform_MP_2019.\n",
      "Features calculated for model Efermi_MP_2019.\n",
      "Features calculated for model Bandgap_MP_2018.\n",
      "Features calculated for model logK_MP_2019.\n",
      "Features calculated for model logG_MP_2019.\n",
      "Processing slice 3 out of 20\n",
      "Features calculated for model Eform_MP_2019.\n",
      "Features calculated for model Efermi_MP_2019.\n"
     ]
    },
    {
     "name": "stderr",
     "output_type": "stream",
     "text": [
      "Isolated atoms found in the structure. The cutoff radius might be small\n"
     ]
    },
    {
     "name": "stdout",
     "output_type": "stream",
     "text": [
      "Features calculated for model Bandgap_MP_2018.\n"
     ]
    },
    {
     "name": "stderr",
     "output_type": "stream",
     "text": [
      "Isolated atoms found in the structure. The cutoff radius might be small\n"
     ]
    },
    {
     "name": "stdout",
     "output_type": "stream",
     "text": [
      "Features calculated for model logK_MP_2019.\n"
     ]
    },
    {
     "name": "stderr",
     "output_type": "stream",
     "text": [
      "Isolated atoms found in the structure. The cutoff radius might be small\n"
     ]
    },
    {
     "name": "stdout",
     "output_type": "stream",
     "text": [
      "Features calculated for model logG_MP_2019.\n",
      "Processing slice 4 out of 20\n",
      "Features calculated for model Eform_MP_2019.\n",
      "Features calculated for model Efermi_MP_2019.\n",
      "Features calculated for model Bandgap_MP_2018.\n",
      "Features calculated for model logK_MP_2019.\n",
      "Features calculated for model logG_MP_2019.\n",
      "Processing slice 5 out of 20\n",
      "Features calculated for model Eform_MP_2019.\n",
      "Features calculated for model Efermi_MP_2019.\n",
      "Features calculated for model Bandgap_MP_2018.\n",
      "Features calculated for model logK_MP_2019.\n"
     ]
    },
    {
     "ename": "KeyboardInterrupt",
     "evalue": "",
     "output_type": "error",
     "traceback": [
      "\u001b[0;31m---------------------------------------------------------------------------\u001b[0m",
      "\u001b[0;31mKeyboardInterrupt\u001b[0m                         Traceback (most recent call last)",
      "Input \u001b[0;32mIn [5]\u001b[0m, in \u001b[0;36m<cell line: 44>\u001b[0;34m()\u001b[0m\n\u001b[1;32m     44\u001b[0m \u001b[38;5;28;01mfor\u001b[39;00m idx \u001b[38;5;129;01min\u001b[39;00m \u001b[38;5;28mrange\u001b[39m(\u001b[38;5;28mlen\u001b[39m(slices)\u001b[38;5;241m-\u001b[39m\u001b[38;5;241m1\u001b[39m):\n\u001b[1;32m     45\u001b[0m     \u001b[38;5;28mprint\u001b[39m(\u001b[38;5;124mf\u001b[39m\u001b[38;5;124m\"\u001b[39m\u001b[38;5;124mProcessing slice \u001b[39m\u001b[38;5;132;01m{\u001b[39;00midx\u001b[38;5;241m+\u001b[39m\u001b[38;5;241m1\u001b[39m\u001b[38;5;132;01m}\u001b[39;00m\u001b[38;5;124m out of \u001b[39m\u001b[38;5;132;01m{\u001b[39;00m\u001b[38;5;28mlen\u001b[39m(slices)\u001b[38;5;132;01m}\u001b[39;00m\u001b[38;5;124m\"\u001b[39m)\n\u001b[0;32m---> 46\u001b[0m     MEGNetFeats_struct\u001b[38;5;241m=\u001b[39m\u001b[43mget_MEGNetFeaturesDF\u001b[49m\u001b[43m(\u001b[49m\u001b[43mstructures\u001b[49m\u001b[43m[\u001b[49m\u001b[43mslices\u001b[49m\u001b[43m[\u001b[49m\u001b[43midx\u001b[49m\u001b[43m]\u001b[49m\u001b[43m:\u001b[49m\u001b[43mslices\u001b[49m\u001b[43m[\u001b[49m\u001b[43midx\u001b[49m\u001b[38;5;241;43m+\u001b[39;49m\u001b[38;5;241;43m1\u001b[39;49m\u001b[43m]\u001b[49m\u001b[43m]\u001b[49m\u001b[43m)\u001b[49m\n\u001b[1;32m     47\u001b[0m     pickle\u001b[38;5;241m.\u001b[39mdump(MEGNetFeats_struct,\u001b[38;5;28mopen\u001b[39m(\u001b[38;5;124mf\u001b[39m\u001b[38;5;124m\"\u001b[39m\u001b[38;5;124mMEGNetFeats_struct_slice\u001b[39m\u001b[38;5;132;01m{\u001b[39;00midx\u001b[38;5;132;01m}\u001b[39;00m\u001b[38;5;124m.pkl\u001b[39m\u001b[38;5;124m\"\u001b[39m, \u001b[38;5;124m\"\u001b[39m\u001b[38;5;124mwb\u001b[39m\u001b[38;5;124m\"\u001b[39m))\n\u001b[1;32m     48\u001b[0m     \u001b[38;5;28;01mdel\u001b[39;00m MEGNetFeats_struct\n",
      "Input \u001b[0;32mIn [5]\u001b[0m, in \u001b[0;36mget_MEGNetFeaturesDF\u001b[0;34m(structures)\u001b[0m\n\u001b[1;32m     19\u001b[0m graph \u001b[38;5;241m=\u001b[39m model\u001b[38;5;241m.\u001b[39mgraph_converter\u001b[38;5;241m.\u001b[39mconvert(s)\n\u001b[1;32m     20\u001b[0m inp \u001b[38;5;241m=\u001b[39m model\u001b[38;5;241m.\u001b[39mgraph_converter\u001b[38;5;241m.\u001b[39mgraph_to_input(graph)\n\u001b[0;32m---> 21\u001b[0m pred \u001b[38;5;241m=\u001b[39m \u001b[43mintermediate_layer_model\u001b[49m\u001b[38;5;241;43m.\u001b[39;49m\u001b[43mpredict\u001b[49m\u001b[43m(\u001b[49m\u001b[43minp\u001b[49m\u001b[43m,\u001b[49m\u001b[43m \u001b[49m\u001b[43mverbose\u001b[49m\u001b[38;5;241;43m=\u001b[39;49m\u001b[38;5;28;43;01mFalse\u001b[39;49;00m\u001b[43m)\u001b[49m\n\u001b[1;32m     22\u001b[0m model_struct\u001b[38;5;241m=\u001b[39mpd\u001b[38;5;241m.\u001b[39mDataFrame([pred[\u001b[38;5;241m0\u001b[39m][\u001b[38;5;241m0\u001b[39m]], \n\u001b[1;32m     23\u001b[0m                           columns\u001b[38;5;241m=\u001b[39m[\u001b[38;5;124mf\u001b[39m\u001b[38;5;124m\"\u001b[39m\u001b[38;5;124mMEGNet_\u001b[39m\u001b[38;5;132;01m{\u001b[39;00mmodel_name\u001b[38;5;132;01m}\u001b[39;00m\u001b[38;5;124m_\u001b[39m\u001b[38;5;132;01m{\u001b[39;00midx\u001b[38;5;241m+\u001b[39m\u001b[38;5;241m1\u001b[39m\u001b[38;5;132;01m}\u001b[39;00m\u001b[38;5;124m\"\u001b[39m \u001b[38;5;28;01mfor\u001b[39;00m idx \u001b[38;5;129;01min\u001b[39;00m \n\u001b[1;32m     24\u001b[0m                                    \u001b[38;5;28mrange\u001b[39m(\u001b[38;5;28mlen\u001b[39m(pred[\u001b[38;5;241m0\u001b[39m][\u001b[38;5;241m0\u001b[39m]))])\n\u001b[1;32m     25\u001b[0m MEGNetModel_structs\u001b[38;5;241m.\u001b[39mappend(model_struct)\n",
      "File \u001b[0;32m/mnt/c/Users/roger/Documents/programas/UCLouvain/env_modnet/lib/python3.8/site-packages/keras/utils/traceback_utils.py:65\u001b[0m, in \u001b[0;36mfilter_traceback.<locals>.error_handler\u001b[0;34m(*args, **kwargs)\u001b[0m\n\u001b[1;32m     63\u001b[0m filtered_tb \u001b[38;5;241m=\u001b[39m \u001b[38;5;28;01mNone\u001b[39;00m\n\u001b[1;32m     64\u001b[0m \u001b[38;5;28;01mtry\u001b[39;00m:\n\u001b[0;32m---> 65\u001b[0m     \u001b[38;5;28;01mreturn\u001b[39;00m \u001b[43mfn\u001b[49m\u001b[43m(\u001b[49m\u001b[38;5;241;43m*\u001b[39;49m\u001b[43margs\u001b[49m\u001b[43m,\u001b[49m\u001b[43m \u001b[49m\u001b[38;5;241;43m*\u001b[39;49m\u001b[38;5;241;43m*\u001b[39;49m\u001b[43mkwargs\u001b[49m\u001b[43m)\u001b[49m\n\u001b[1;32m     66\u001b[0m \u001b[38;5;28;01mexcept\u001b[39;00m \u001b[38;5;167;01mException\u001b[39;00m \u001b[38;5;28;01mas\u001b[39;00m e:\n\u001b[1;32m     67\u001b[0m     filtered_tb \u001b[38;5;241m=\u001b[39m _process_traceback_frames(e\u001b[38;5;241m.\u001b[39m__traceback__)\n",
      "File \u001b[0;32m/mnt/c/Users/roger/Documents/programas/UCLouvain/env_modnet/lib/python3.8/site-packages/keras/engine/training.py:2220\u001b[0m, in \u001b[0;36mModel.predict\u001b[0;34m(self, x, batch_size, verbose, steps, callbacks, max_queue_size, workers, use_multiprocessing)\u001b[0m\n\u001b[1;32m   2211\u001b[0m     \u001b[38;5;28;01mexcept\u001b[39;00m \u001b[38;5;167;01mValueError\u001b[39;00m:\n\u001b[1;32m   2212\u001b[0m         warnings\u001b[38;5;241m.\u001b[39mwarn(\n\u001b[1;32m   2213\u001b[0m             \u001b[38;5;124m\"\u001b[39m\u001b[38;5;124mUsing Model.predict with MultiWorkerMirroredStrategy \u001b[39m\u001b[38;5;124m\"\u001b[39m\n\u001b[1;32m   2214\u001b[0m             \u001b[38;5;124m\"\u001b[39m\u001b[38;5;124mor TPUStrategy and AutoShardPolicy.FILE might lead to \u001b[39m\u001b[38;5;124m\"\u001b[39m\n\u001b[0;32m   (...)\u001b[0m\n\u001b[1;32m   2217\u001b[0m             stacklevel\u001b[38;5;241m=\u001b[39m\u001b[38;5;241m2\u001b[39m,\n\u001b[1;32m   2218\u001b[0m         )\n\u001b[0;32m-> 2220\u001b[0m data_handler \u001b[38;5;241m=\u001b[39m \u001b[43mdata_adapter\u001b[49m\u001b[38;5;241;43m.\u001b[39;49m\u001b[43mget_data_handler\u001b[49m\u001b[43m(\u001b[49m\n\u001b[1;32m   2221\u001b[0m \u001b[43m    \u001b[49m\u001b[43mx\u001b[49m\u001b[38;5;241;43m=\u001b[39;49m\u001b[43mx\u001b[49m\u001b[43m,\u001b[49m\n\u001b[1;32m   2222\u001b[0m \u001b[43m    \u001b[49m\u001b[43mbatch_size\u001b[49m\u001b[38;5;241;43m=\u001b[39;49m\u001b[43mbatch_size\u001b[49m\u001b[43m,\u001b[49m\n\u001b[1;32m   2223\u001b[0m \u001b[43m    \u001b[49m\u001b[43msteps_per_epoch\u001b[49m\u001b[38;5;241;43m=\u001b[39;49m\u001b[43msteps\u001b[49m\u001b[43m,\u001b[49m\n\u001b[1;32m   2224\u001b[0m \u001b[43m    \u001b[49m\u001b[43minitial_epoch\u001b[49m\u001b[38;5;241;43m=\u001b[39;49m\u001b[38;5;241;43m0\u001b[39;49m\u001b[43m,\u001b[49m\n\u001b[1;32m   2225\u001b[0m \u001b[43m    \u001b[49m\u001b[43mepochs\u001b[49m\u001b[38;5;241;43m=\u001b[39;49m\u001b[38;5;241;43m1\u001b[39;49m\u001b[43m,\u001b[49m\n\u001b[1;32m   2226\u001b[0m \u001b[43m    \u001b[49m\u001b[43mmax_queue_size\u001b[49m\u001b[38;5;241;43m=\u001b[39;49m\u001b[43mmax_queue_size\u001b[49m\u001b[43m,\u001b[49m\n\u001b[1;32m   2227\u001b[0m \u001b[43m    \u001b[49m\u001b[43mworkers\u001b[49m\u001b[38;5;241;43m=\u001b[39;49m\u001b[43mworkers\u001b[49m\u001b[43m,\u001b[49m\n\u001b[1;32m   2228\u001b[0m \u001b[43m    \u001b[49m\u001b[43muse_multiprocessing\u001b[49m\u001b[38;5;241;43m=\u001b[39;49m\u001b[43muse_multiprocessing\u001b[49m\u001b[43m,\u001b[49m\n\u001b[1;32m   2229\u001b[0m \u001b[43m    \u001b[49m\u001b[43mmodel\u001b[49m\u001b[38;5;241;43m=\u001b[39;49m\u001b[38;5;28;43mself\u001b[39;49m\u001b[43m,\u001b[49m\n\u001b[1;32m   2230\u001b[0m \u001b[43m    \u001b[49m\u001b[43msteps_per_execution\u001b[49m\u001b[38;5;241;43m=\u001b[39;49m\u001b[38;5;28;43mself\u001b[39;49m\u001b[38;5;241;43m.\u001b[39;49m\u001b[43m_steps_per_execution\u001b[49m\u001b[43m,\u001b[49m\n\u001b[1;32m   2231\u001b[0m \u001b[43m\u001b[49m\u001b[43m)\u001b[49m\n\u001b[1;32m   2233\u001b[0m \u001b[38;5;66;03m# Container that configures and calls `tf.keras.Callback`s.\u001b[39;00m\n\u001b[1;32m   2234\u001b[0m \u001b[38;5;28;01mif\u001b[39;00m \u001b[38;5;129;01mnot\u001b[39;00m \u001b[38;5;28misinstance\u001b[39m(callbacks, callbacks_module\u001b[38;5;241m.\u001b[39mCallbackList):\n",
      "File \u001b[0;32m/mnt/c/Users/roger/Documents/programas/UCLouvain/env_modnet/lib/python3.8/site-packages/keras/engine/data_adapter.py:1582\u001b[0m, in \u001b[0;36mget_data_handler\u001b[0;34m(*args, **kwargs)\u001b[0m\n\u001b[1;32m   1580\u001b[0m \u001b[38;5;28;01mif\u001b[39;00m \u001b[38;5;28mgetattr\u001b[39m(kwargs[\u001b[38;5;124m\"\u001b[39m\u001b[38;5;124mmodel\u001b[39m\u001b[38;5;124m\"\u001b[39m], \u001b[38;5;124m\"\u001b[39m\u001b[38;5;124m_cluster_coordinator\u001b[39m\u001b[38;5;124m\"\u001b[39m, \u001b[38;5;28;01mNone\u001b[39;00m):\n\u001b[1;32m   1581\u001b[0m     \u001b[38;5;28;01mreturn\u001b[39;00m _ClusterCoordinatorDataHandler(\u001b[38;5;241m*\u001b[39margs, \u001b[38;5;241m*\u001b[39m\u001b[38;5;241m*\u001b[39mkwargs)\n\u001b[0;32m-> 1582\u001b[0m \u001b[38;5;28;01mreturn\u001b[39;00m \u001b[43mDataHandler\u001b[49m\u001b[43m(\u001b[49m\u001b[38;5;241;43m*\u001b[39;49m\u001b[43margs\u001b[49m\u001b[43m,\u001b[49m\u001b[43m \u001b[49m\u001b[38;5;241;43m*\u001b[39;49m\u001b[38;5;241;43m*\u001b[39;49m\u001b[43mkwargs\u001b[49m\u001b[43m)\u001b[49m\n",
      "File \u001b[0;32m/mnt/c/Users/roger/Documents/programas/UCLouvain/env_modnet/lib/python3.8/site-packages/keras/engine/data_adapter.py:1283\u001b[0m, in \u001b[0;36mDataHandler.__init__\u001b[0;34m(self, x, y, sample_weight, batch_size, steps_per_epoch, initial_epoch, epochs, shuffle, class_weight, max_queue_size, workers, use_multiprocessing, model, steps_per_execution, distribute)\u001b[0m\n\u001b[1;32m   1280\u001b[0m \u001b[38;5;28mself\u001b[39m\u001b[38;5;241m.\u001b[39m_step_increment \u001b[38;5;241m=\u001b[39m \u001b[38;5;28mself\u001b[39m\u001b[38;5;241m.\u001b[39m_steps_per_execution\u001b[38;5;241m.\u001b[39mnumpy()\u001b[38;5;241m.\u001b[39mitem() \u001b[38;5;241m-\u001b[39m \u001b[38;5;241m1\u001b[39m\n\u001b[1;32m   1281\u001b[0m \u001b[38;5;28mself\u001b[39m\u001b[38;5;241m.\u001b[39m_insufficient_data \u001b[38;5;241m=\u001b[39m \u001b[38;5;28;01mFalse\u001b[39;00m\n\u001b[0;32m-> 1283\u001b[0m \u001b[38;5;28;43mself\u001b[39;49m\u001b[38;5;241;43m.\u001b[39;49m\u001b[43m_configure_dataset_and_inferred_steps\u001b[49m\u001b[43m(\u001b[49m\n\u001b[1;32m   1284\u001b[0m \u001b[43m    \u001b[49m\u001b[43mstrategy\u001b[49m\u001b[43m,\u001b[49m\u001b[43m \u001b[49m\u001b[43mx\u001b[49m\u001b[43m,\u001b[49m\u001b[43m \u001b[49m\u001b[43msteps_per_epoch\u001b[49m\u001b[43m,\u001b[49m\u001b[43m \u001b[49m\u001b[43mclass_weight\u001b[49m\u001b[43m,\u001b[49m\u001b[43m \u001b[49m\u001b[43mdistribute\u001b[49m\n\u001b[1;32m   1285\u001b[0m \u001b[43m\u001b[49m\u001b[43m)\u001b[49m\n",
      "File \u001b[0;32m/mnt/c/Users/roger/Documents/programas/UCLouvain/env_modnet/lib/python3.8/site-packages/keras/engine/data_adapter.py:1302\u001b[0m, in \u001b[0;36mDataHandler._configure_dataset_and_inferred_steps\u001b[0;34m(***failed resolving arguments***)\u001b[0m\n\u001b[1;32m   1300\u001b[0m     dataset \u001b[38;5;241m=\u001b[39m strategy\u001b[38;5;241m.\u001b[39mexperimental_distribute_dataset(dataset)\n\u001b[1;32m   1301\u001b[0m \u001b[38;5;28mself\u001b[39m\u001b[38;5;241m.\u001b[39m_dataset \u001b[38;5;241m=\u001b[39m dataset\n\u001b[0;32m-> 1302\u001b[0m \u001b[38;5;28;43mself\u001b[39;49m\u001b[38;5;241;43m.\u001b[39;49m\u001b[43m_validate_data_handler\u001b[49m\u001b[43m(\u001b[49m\u001b[43m)\u001b[49m\n",
      "File \u001b[0;32m/mnt/c/Users/roger/Documents/programas/UCLouvain/env_modnet/lib/python3.8/site-packages/keras/engine/data_adapter.py:1467\u001b[0m, in \u001b[0;36mDataHandler._validate_data_handler\u001b[0;34m(self)\u001b[0m\n\u001b[1;32m   1464\u001b[0m \u001b[38;5;28;01mdef\u001b[39;00m \u001b[38;5;21m_validate_data_handler\u001b[39m(\u001b[38;5;28mself\u001b[39m):\n\u001b[1;32m   1465\u001b[0m     \u001b[38;5;66;03m# TODO(b/152094471): Support this with DistIter.get_next_as_optional.\u001b[39;00m\n\u001b[1;32m   1466\u001b[0m     \u001b[38;5;28;01mif\u001b[39;00m (\n\u001b[0;32m-> 1467\u001b[0m         \u001b[38;5;28;43mself\u001b[39;49m\u001b[38;5;241;43m.\u001b[39;49m\u001b[43m_steps_per_execution\u001b[49m\u001b[38;5;241;43m.\u001b[39;49m\u001b[43mnumpy\u001b[49m\u001b[43m(\u001b[49m\u001b[43m)\u001b[49m\u001b[38;5;241m.\u001b[39mitem() \u001b[38;5;241m>\u001b[39m \u001b[38;5;241m1\u001b[39m\n\u001b[1;32m   1468\u001b[0m         \u001b[38;5;129;01mand\u001b[39;00m \u001b[38;5;28mself\u001b[39m\u001b[38;5;241m.\u001b[39m_inferred_steps \u001b[38;5;129;01mis\u001b[39;00m \u001b[38;5;28;01mNone\u001b[39;00m\n\u001b[1;32m   1469\u001b[0m     ):\n\u001b[1;32m   1470\u001b[0m         \u001b[38;5;28;01mraise\u001b[39;00m \u001b[38;5;167;01mValueError\u001b[39;00m(\n\u001b[1;32m   1471\u001b[0m             \u001b[38;5;124m\"\u001b[39m\u001b[38;5;124mCould not infer the size of the data. With \u001b[39m\u001b[38;5;124m\"\u001b[39m\n\u001b[1;32m   1472\u001b[0m             \u001b[38;5;124m\"\u001b[39m\u001b[38;5;124m`steps_per_execution > 1`, you must specify the number of \u001b[39m\u001b[38;5;124m\"\u001b[39m\n\u001b[1;32m   1473\u001b[0m             \u001b[38;5;124m\"\u001b[39m\u001b[38;5;124msteps to run.\u001b[39m\u001b[38;5;124m\"\u001b[39m\n\u001b[1;32m   1474\u001b[0m         )\n",
      "File \u001b[0;32m/mnt/c/Users/roger/Documents/programas/UCLouvain/env_modnet/lib/python3.8/site-packages/tensorflow/python/ops/resource_variable_ops.py:637\u001b[0m, in \u001b[0;36mBaseResourceVariable.numpy\u001b[0;34m(self)\u001b[0m\n\u001b[1;32m    635\u001b[0m \u001b[38;5;28;01mdef\u001b[39;00m \u001b[38;5;21mnumpy\u001b[39m(\u001b[38;5;28mself\u001b[39m):\n\u001b[1;32m    636\u001b[0m   \u001b[38;5;28;01mif\u001b[39;00m context\u001b[38;5;241m.\u001b[39mexecuting_eagerly():\n\u001b[0;32m--> 637\u001b[0m     \u001b[38;5;28;01mreturn\u001b[39;00m \u001b[38;5;28;43mself\u001b[39;49m\u001b[38;5;241;43m.\u001b[39;49m\u001b[43mread_value\u001b[49m\u001b[43m(\u001b[49m\u001b[43m)\u001b[49m\u001b[38;5;241m.\u001b[39mnumpy()\n\u001b[1;32m    638\u001b[0m   \u001b[38;5;28;01mraise\u001b[39;00m \u001b[38;5;167;01mNotImplementedError\u001b[39;00m(\n\u001b[1;32m    639\u001b[0m       \u001b[38;5;124m\"\u001b[39m\u001b[38;5;124mnumpy() is only available when eager execution is enabled.\u001b[39m\u001b[38;5;124m\"\u001b[39m)\n",
      "File \u001b[0;32m/mnt/c/Users/roger/Documents/programas/UCLouvain/env_modnet/lib/python3.8/site-packages/tensorflow/python/ops/resource_variable_ops.py:725\u001b[0m, in \u001b[0;36mBaseResourceVariable.read_value\u001b[0;34m(self)\u001b[0m\n\u001b[1;32m    716\u001b[0m \u001b[38;5;124;03m\"\"\"Constructs an op which reads the value of this variable.\u001b[39;00m\n\u001b[1;32m    717\u001b[0m \n\u001b[1;32m    718\u001b[0m \u001b[38;5;124;03mShould be used when there are multiple reads, or when it is desirable to\u001b[39;00m\n\u001b[0;32m   (...)\u001b[0m\n\u001b[1;32m    722\u001b[0m \u001b[38;5;124;03m  The value of the variable.\u001b[39;00m\n\u001b[1;32m    723\u001b[0m \u001b[38;5;124;03m\"\"\"\u001b[39;00m\n\u001b[1;32m    724\u001b[0m \u001b[38;5;28;01mwith\u001b[39;00m ops\u001b[38;5;241m.\u001b[39mname_scope(\u001b[38;5;124m\"\u001b[39m\u001b[38;5;124mRead\u001b[39m\u001b[38;5;124m\"\u001b[39m):\n\u001b[0;32m--> 725\u001b[0m   value \u001b[38;5;241m=\u001b[39m \u001b[38;5;28;43mself\u001b[39;49m\u001b[38;5;241;43m.\u001b[39;49m\u001b[43m_read_variable_op\u001b[49m\u001b[43m(\u001b[49m\u001b[43m)\u001b[49m\n\u001b[1;32m    726\u001b[0m \u001b[38;5;66;03m# Return an identity so it can get placed on whatever device the context\u001b[39;00m\n\u001b[1;32m    727\u001b[0m \u001b[38;5;66;03m# specifies instead of the device where the variable is.\u001b[39;00m\n\u001b[1;32m    728\u001b[0m \u001b[38;5;28;01mreturn\u001b[39;00m array_ops\u001b[38;5;241m.\u001b[39midentity(value)\n",
      "File \u001b[0;32m/mnt/c/Users/roger/Documents/programas/UCLouvain/env_modnet/lib/python3.8/site-packages/tensorflow/python/ops/resource_variable_ops.py:704\u001b[0m, in \u001b[0;36mBaseResourceVariable._read_variable_op\u001b[0;34m(self, no_copy)\u001b[0m\n\u001b[1;32m    702\u001b[0m       result \u001b[38;5;241m=\u001b[39m read_and_set_handle(no_copy)\n\u001b[1;32m    703\u001b[0m \u001b[38;5;28;01melse\u001b[39;00m:\n\u001b[0;32m--> 704\u001b[0m   result \u001b[38;5;241m=\u001b[39m \u001b[43mread_and_set_handle\u001b[49m\u001b[43m(\u001b[49m\u001b[43mno_copy\u001b[49m\u001b[43m)\u001b[49m\n\u001b[1;32m    706\u001b[0m \u001b[38;5;28;01mif\u001b[39;00m \u001b[38;5;129;01mnot\u001b[39;00m context\u001b[38;5;241m.\u001b[39mexecuting_eagerly():\n\u001b[1;32m    707\u001b[0m   \u001b[38;5;66;03m# Note that if a control flow context is active the input of the read op\u001b[39;00m\n\u001b[1;32m    708\u001b[0m   \u001b[38;5;66;03m# might not actually be the handle. This line bypasses it.\u001b[39;00m\n\u001b[1;32m    709\u001b[0m   tape\u001b[38;5;241m.\u001b[39mrecord_operation(\n\u001b[1;32m    710\u001b[0m       \u001b[38;5;124m\"\u001b[39m\u001b[38;5;124mReadVariableOp\u001b[39m\u001b[38;5;124m\"\u001b[39m, [result], [\u001b[38;5;28mself\u001b[39m\u001b[38;5;241m.\u001b[39mhandle],\n\u001b[1;32m    711\u001b[0m       backward_function\u001b[38;5;241m=\u001b[39m\u001b[38;5;28;01mlambda\u001b[39;00m x: [x],\n\u001b[1;32m    712\u001b[0m       forward_function\u001b[38;5;241m=\u001b[39m\u001b[38;5;28;01mlambda\u001b[39;00m x: [x])\n",
      "File \u001b[0;32m/mnt/c/Users/roger/Documents/programas/UCLouvain/env_modnet/lib/python3.8/site-packages/tensorflow/python/ops/resource_variable_ops.py:694\u001b[0m, in \u001b[0;36mBaseResourceVariable._read_variable_op.<locals>.read_and_set_handle\u001b[0;34m(no_copy)\u001b[0m\n\u001b[1;32m    692\u001b[0m \u001b[38;5;28;01mif\u001b[39;00m no_copy \u001b[38;5;129;01mand\u001b[39;00m forward_compat\u001b[38;5;241m.\u001b[39mforward_compatible(\u001b[38;5;241m2022\u001b[39m, \u001b[38;5;241m5\u001b[39m, \u001b[38;5;241m3\u001b[39m):\n\u001b[1;32m    693\u001b[0m   gen_resource_variable_ops\u001b[38;5;241m.\u001b[39mdisable_copy_on_read(\u001b[38;5;28mself\u001b[39m\u001b[38;5;241m.\u001b[39mhandle)\n\u001b[0;32m--> 694\u001b[0m result \u001b[38;5;241m=\u001b[39m \u001b[43mgen_resource_variable_ops\u001b[49m\u001b[38;5;241;43m.\u001b[39;49m\u001b[43mread_variable_op\u001b[49m\u001b[43m(\u001b[49m\n\u001b[1;32m    695\u001b[0m \u001b[43m    \u001b[49m\u001b[38;5;28;43mself\u001b[39;49m\u001b[38;5;241;43m.\u001b[39;49m\u001b[43mhandle\u001b[49m\u001b[43m,\u001b[49m\u001b[43m \u001b[49m\u001b[38;5;28;43mself\u001b[39;49m\u001b[38;5;241;43m.\u001b[39;49m\u001b[43m_dtype\u001b[49m\u001b[43m)\u001b[49m\n\u001b[1;32m    696\u001b[0m _maybe_set_handle_data(\u001b[38;5;28mself\u001b[39m\u001b[38;5;241m.\u001b[39m_dtype, \u001b[38;5;28mself\u001b[39m\u001b[38;5;241m.\u001b[39mhandle, result)\n\u001b[1;32m    697\u001b[0m \u001b[38;5;28;01mreturn\u001b[39;00m result\n",
      "File \u001b[0;32m/mnt/c/Users/roger/Documents/programas/UCLouvain/env_modnet/lib/python3.8/site-packages/tensorflow/python/ops/gen_resource_variable_ops.py:525\u001b[0m, in \u001b[0;36mread_variable_op\u001b[0;34m(resource, dtype, name)\u001b[0m\n\u001b[1;32m    523\u001b[0m \u001b[38;5;28;01mif\u001b[39;00m tld\u001b[38;5;241m.\u001b[39mis_eager:\n\u001b[1;32m    524\u001b[0m   \u001b[38;5;28;01mtry\u001b[39;00m:\n\u001b[0;32m--> 525\u001b[0m     _result \u001b[38;5;241m=\u001b[39m \u001b[43mpywrap_tfe\u001b[49m\u001b[38;5;241;43m.\u001b[39;49m\u001b[43mTFE_Py_FastPathExecute\u001b[49m\u001b[43m(\u001b[49m\n\u001b[1;32m    526\u001b[0m \u001b[43m      \u001b[49m\u001b[43m_ctx\u001b[49m\u001b[43m,\u001b[49m\u001b[43m \u001b[49m\u001b[38;5;124;43m\"\u001b[39;49m\u001b[38;5;124;43mReadVariableOp\u001b[39;49m\u001b[38;5;124;43m\"\u001b[39;49m\u001b[43m,\u001b[49m\u001b[43m \u001b[49m\u001b[43mname\u001b[49m\u001b[43m,\u001b[49m\u001b[43m \u001b[49m\u001b[43mresource\u001b[49m\u001b[43m,\u001b[49m\u001b[43m \u001b[49m\u001b[38;5;124;43m\"\u001b[39;49m\u001b[38;5;124;43mdtype\u001b[39;49m\u001b[38;5;124;43m\"\u001b[39;49m\u001b[43m,\u001b[49m\u001b[43m \u001b[49m\u001b[43mdtype\u001b[49m\u001b[43m)\u001b[49m\n\u001b[1;32m    527\u001b[0m     \u001b[38;5;28;01mreturn\u001b[39;00m _result\n\u001b[1;32m    528\u001b[0m   \u001b[38;5;28;01mexcept\u001b[39;00m _core\u001b[38;5;241m.\u001b[39m_NotOkStatusException \u001b[38;5;28;01mas\u001b[39;00m e:\n",
      "\u001b[0;31mKeyboardInterrupt\u001b[0m: "
     ]
    }
   ],
   "source": [
    "from megnet.utils.models import load_model, AVAILABLE_MODELS\n",
    "from pymatgen.core import Structure, Lattice\n",
    "from pymatgen.ext.matproj import MPRester\n",
    "import numpy as np\n",
    "from keras.models import Model\n",
    "import warnings\n",
    "import pandas as pd\n",
    "warnings.filterwarnings(\"ignore\")\n",
    "# print(AVAILABLE_MODELS)\n",
    "def get_MEGNetFeaturesDF(structures):\n",
    "    MEGNetFeats_structs=[]\n",
    "    for model_name in ['Eform_MP_2019','Efermi_MP_2019','Bandgap_MP_2018','logK_MP_2019','logG_MP_2019']:\n",
    "        model=load_model(model_name) \n",
    "        intermediate_layer_model = Model(inputs=model.input,\n",
    "                             outputs=model.layers[-3].output)   \n",
    "        MEGNetModel_structs=[]\n",
    "        for s in structures:\n",
    "            try:\n",
    "                graph = model.graph_converter.convert(s)\n",
    "                inp = model.graph_converter.graph_to_input(graph)\n",
    "                pred = intermediate_layer_model.predict(inp, verbose=False)\n",
    "                model_struct=pd.DataFrame([pred[0][0]], \n",
    "                                          columns=[f\"MEGNet_{model_name}_{idx+1}\" for idx in \n",
    "                                                   range(len(pred[0][0]))])\n",
    "                MEGNetModel_structs.append(model_struct)\n",
    "            except Exception as e:\n",
    "                print(e)\n",
    "                print(\"Probably an invalid structure was passed to the model, continuing..\")\n",
    "                model_struct=pd.DataFrame([np.nan]*32, \n",
    "                                          columns=[f\"MEGNet_{model_name}_{idx+1}\" for idx in \n",
    "                                                   range(len(pred[0][0]))])\n",
    "                continue\n",
    "        ## now append the columns with the layer of each model\n",
    "        MEGNetModel_structs=pd.concat(MEGNetModel_structs,axis=0)\n",
    "        MEGNetFeats_structs.append(MEGNetModel_structs)\n",
    "        print(f\"Features calculated for model {model_name}.\")\n",
    "    ## now every structure calculated with each model is combined in a final dataframe\n",
    "    MEGNetFeats_structs=pd.concat(MEGNetFeats_structs,axis=1)\n",
    "    return MEGNetFeats_structs\n",
    "\n",
    "import pickle\n",
    "structures=data.df_structure['structure']\n",
    "slices=list(range(0,len(structures),1000))+[None]\n",
    "for idx in range(len(slices)-1):\n",
    "    print(f\"Processing slice {idx+1} out of {len(slices)}\")\n",
    "    MEGNetFeats_struct=get_MEGNetFeaturesDF(structures[slices[idx]:slices[idx+1]])\n",
    "    pickle.dump(MEGNetFeats_struct,open(f\"MEGNetFeats_struct_slice{idx}.pkl\", \"wb\"))\n",
    "    del MEGNetFeats_struct ## free memory\n",
    "\n",
    "# slices=list(range(0,len(structures),100))\n",
    "# slices_range=slices+[None]\n",
    "## lets save every 100 structures\n",
    "# for i in range(len(slices)):\n",
    "#     slice_1=slices_range[i]\n",
    "#     slice_2=slices_range[i]\n",
    "# MEGNetFeats_DF=[]\n",
    "\n",
    "#     try:\n",
    "#         MEGNetFeats_struct = get_MEGNetFeatures(s)\n",
    "#         MEGNetFeats_DF.append(MEGNetFeats_struct)\n",
    "#     except Exception as e:\n",
    "#         print(e)\n",
    "#         print(\"Invalid structure found.\")\n",
    "#         continue\n",
    "#     ## assemble all samples together\n",
    "# MEGNetFeats_struct=pd.concat(MEGNetFeats_DF,axis=0)\n",
    "# MEGNetFeats_struct\n",
    "\n",
    "# # train the model using valid graphs and targets\n",
    "# model.train_from_graphs(graphs_valid, targets_valid)"
   ]
  },
  {
   "cell_type": "code",
   "execution_count": 2,
   "id": "34c00f4a",
   "metadata": {},
   "outputs": [
    {
     "name": "stdout",
     "output_type": "stream",
     "text": [
      "/bin/bash: /mnt/c/Users/roger/Documents/programas/UCLouvain/env_modnet/lib/libtinfo.so.6: no version information available (required by /bin/bash)\n",
      "6.2M\tBaggingLR_OFM.ipynb\n",
      "120M\tDATAFILES\n",
      "2.4G\tFeaturization\n",
      "120K\tFeaturizingData.ipynb\n",
      "640K\tMEGNetFeats_struct_slice0.pkl\n",
      "640K\tMEGNetFeats_struct_slice1.pkl\n",
      "640K\tMEGNetFeats_struct_slice2.pkl\n",
      "640K\tMEGNetFeats_struct_slice3.pkl\n",
      "8.0K\tOFMClusterModel\n",
      "1.6M\tOFM_PCAcomponents.pkl\n",
      "8.6M\tOFM_customfeaturized1000.pkl\n",
      "8.6M\tOFM_customfeaturized10000.pkl\n",
      "8.6M\tOFM_customfeaturized11000.pkl\n",
      "8.6M\tOFM_customfeaturized12000.pkl\n",
      "8.6M\tOFM_customfeaturized13000.pkl\n",
      "8.6M\tOFM_customfeaturized14000.pkl\n",
      "8.6M\tOFM_customfeaturized15000.pkl\n",
      "8.6M\tOFM_customfeaturized16000.pkl\n",
      "8.6M\tOFM_customfeaturized17000.pkl\n",
      "8.6M\tOFM_customfeaturized18000.pkl\n",
      "8.0M\tOFM_customfeaturized18928.pkl\n",
      "8.6M\tOFM_customfeaturized2000.pkl\n",
      "8.6M\tOFM_customfeaturized3000.pkl\n",
      "8.6M\tOFM_customfeaturized4000.pkl\n",
      "8.6M\tOFM_customfeaturized5000.pkl\n",
      "8.6M\tOFM_customfeaturized6000.pkl\n",
      "8.6M\tOFM_customfeaturized7000.pkl\n",
      "8.6M\tOFM_customfeaturized8000.pkl\n",
      "8.6M\tOFM_customfeaturized9000.pkl\n",
      "0\tREADME.md\n",
      "8.4M\tase_structures.pkl\n",
      "4.0K\tmake_subsets_data.py\n",
      "46M\tnoOFM\n",
      "32K\trun_benchmark.py\n",
      "14M\twithOFM\n"
     ]
    }
   ],
   "source": [
    "!du -sh *\n"
   ]
  },
  {
   "cell_type": "code",
   "execution_count": 59,
   "id": "eff99e5d",
   "metadata": {},
   "outputs": [
    {
     "data": {
      "text/plain": [
       "id\n",
       "id0    [[0. 0. 0.] Rh, [1.97726555 1.97726555 1.97726...\n",
       "id1    [[2.54041798 0.         0.        ] Hf, [1.020...\n",
       "id2    [[0.60790913 0.         0.        ] Re, [2.186...\n",
       "Name: structure, dtype: object"
      ]
     },
     "execution_count": 59,
     "metadata": {},
     "output_type": "execute_result"
    }
   ],
   "source": [
    "structures[:3]"
   ]
  },
  {
   "cell_type": "code",
   "execution_count": 56,
   "id": "4e131d2e",
   "metadata": {},
   "outputs": [
    {
     "data": {
      "text/html": [
       "<div>\n",
       "<style scoped>\n",
       "    .dataframe tbody tr th:only-of-type {\n",
       "        vertical-align: middle;\n",
       "    }\n",
       "\n",
       "    .dataframe tbody tr th {\n",
       "        vertical-align: top;\n",
       "    }\n",
       "\n",
       "    .dataframe thead th {\n",
       "        text-align: right;\n",
       "    }\n",
       "</style>\n",
       "<table border=\"1\" class=\"dataframe\">\n",
       "  <thead>\n",
       "    <tr style=\"text-align: right;\">\n",
       "      <th></th>\n",
       "      <th>MEGNet_Eform_MP_2019_1</th>\n",
       "      <th>MEGNet_Efermi_MP_2019_1</th>\n",
       "      <th>MEGNet_Bandgap_MP_2018_1</th>\n",
       "      <th>MEGNet_logK_MP_2019_1</th>\n",
       "      <th>MEGNet_logG_MP_2019_1</th>\n",
       "    </tr>\n",
       "  </thead>\n",
       "  <tbody>\n",
       "    <tr>\n",
       "      <th>0</th>\n",
       "      <td>13.070421</td>\n",
       "      <td>-0.667087</td>\n",
       "      <td>-0.693144</td>\n",
       "      <td>-0.682371</td>\n",
       "      <td>-0.468624</td>\n",
       "    </tr>\n",
       "    <tr>\n",
       "      <th>0</th>\n",
       "      <td>-0.678481</td>\n",
       "      <td>-0.621712</td>\n",
       "      <td>3.169754</td>\n",
       "      <td>-0.662625</td>\n",
       "      <td>-0.692508</td>\n",
       "    </tr>\n",
       "    <tr>\n",
       "      <th>0</th>\n",
       "      <td>1.650937</td>\n",
       "      <td>-0.602165</td>\n",
       "      <td>-0.692621</td>\n",
       "      <td>-0.659049</td>\n",
       "      <td>-0.686935</td>\n",
       "    </tr>\n",
       "    <tr>\n",
       "      <th>0</th>\n",
       "      <td>5.813663</td>\n",
       "      <td>-0.630605</td>\n",
       "      <td>-0.692974</td>\n",
       "      <td>-0.667284</td>\n",
       "      <td>-0.650627</td>\n",
       "    </tr>\n",
       "    <tr>\n",
       "      <th>0</th>\n",
       "      <td>-0.679549</td>\n",
       "      <td>-0.200709</td>\n",
       "      <td>0.145623</td>\n",
       "      <td>-0.527041</td>\n",
       "      <td>-0.692113</td>\n",
       "    </tr>\n",
       "    <tr>\n",
       "      <th>0</th>\n",
       "      <td>-0.688560</td>\n",
       "      <td>-0.693118</td>\n",
       "      <td>-0.685626</td>\n",
       "      <td>-0.690051</td>\n",
       "      <td>-0.419856</td>\n",
       "    </tr>\n",
       "    <tr>\n",
       "      <th>0</th>\n",
       "      <td>0.433677</td>\n",
       "      <td>1.804684</td>\n",
       "      <td>-0.423808</td>\n",
       "      <td>-0.303553</td>\n",
       "      <td>-0.661236</td>\n",
       "    </tr>\n",
       "    <tr>\n",
       "      <th>0</th>\n",
       "      <td>-0.685306</td>\n",
       "      <td>-0.692529</td>\n",
       "      <td>-0.693111</td>\n",
       "      <td>-0.663171</td>\n",
       "      <td>-0.579499</td>\n",
       "    </tr>\n",
       "    <tr>\n",
       "      <th>0</th>\n",
       "      <td>3.703247</td>\n",
       "      <td>-0.693141</td>\n",
       "      <td>-0.693145</td>\n",
       "      <td>-0.622793</td>\n",
       "      <td>-0.690080</td>\n",
       "    </tr>\n",
       "    <tr>\n",
       "      <th>0</th>\n",
       "      <td>-0.640070</td>\n",
       "      <td>-0.693147</td>\n",
       "      <td>-0.693147</td>\n",
       "      <td>-0.692486</td>\n",
       "      <td>-0.594721</td>\n",
       "    </tr>\n",
       "  </tbody>\n",
       "</table>\n",
       "</div>"
      ],
      "text/plain": [
       "   MEGNet_Eform_MP_2019_1  MEGNet_Efermi_MP_2019_1  MEGNet_Bandgap_MP_2018_1  MEGNet_logK_MP_2019_1  MEGNet_logG_MP_2019_1\n",
       "0               13.070421                -0.667087                 -0.693144              -0.682371              -0.468624\n",
       "0               -0.678481                -0.621712                  3.169754              -0.662625              -0.692508\n",
       "0                1.650937                -0.602165                 -0.692621              -0.659049              -0.686935\n",
       "0                5.813663                -0.630605                 -0.692974              -0.667284              -0.650627\n",
       "0               -0.679549                -0.200709                  0.145623              -0.527041              -0.692113\n",
       "0               -0.688560                -0.693118                 -0.685626              -0.690051              -0.419856\n",
       "0                0.433677                 1.804684                 -0.423808              -0.303553              -0.661236\n",
       "0               -0.685306                -0.692529                 -0.693111              -0.663171              -0.579499\n",
       "0                3.703247                -0.693141                 -0.693145              -0.622793              -0.690080\n",
       "0               -0.640070                -0.693147                 -0.693147              -0.692486              -0.594721"
      ]
     },
     "execution_count": 56,
     "metadata": {},
     "output_type": "execute_result"
    }
   ],
   "source": [
    "MEGNetFeats_struct.filter(regex='_1$', axis=1)"
   ]
  },
  {
   "cell_type": "code",
   "execution_count": 45,
   "id": "7575b564",
   "metadata": {},
   "outputs": [
    {
     "data": {
      "text/plain": [
       "id\n",
       "id0     [[0. 0. 0.] Rh, [1.97726555 1.97726555 1.97726...\n",
       "id1     [[2.54041798 0.         0.        ] Hf, [1.020...\n",
       "id2     [[0.60790913 0.         0.        ] Re, [2.186...\n",
       "id3     [[2.83091357 0.         0.        ] W, [2.6573...\n",
       "id4     [[0.00518937 0.         0.        ] Bi, [2.172...\n",
       "                              ...                        \n",
       "id95    [[3.58528386e+00 3.71944048e+00 1.57916323e-14...\n",
       "id96    [[0.00097358 0.         0.        ] Cd, [2.318...\n",
       "id97    [[5.69205889e-03 0.00000000e+00 2.25789652e-18...\n",
       "id98    [[1.09494106e+00 4.59999549e-11 1.34936202e-11...\n",
       "id99    [[0. 0. 0.] Sn, [2.17447018 2.17447018 2.17447...\n",
       "Name: structure, Length: 100, dtype: object"
      ]
     },
     "execution_count": 45,
     "metadata": {},
     "output_type": "execute_result"
    }
   ],
   "source": [
    "structures[0:100]"
   ]
  },
  {
   "cell_type": "code",
   "execution_count": 22,
   "id": "a38a2c3e",
   "metadata": {},
   "outputs": [
    {
     "name": "stdout",
     "output_type": "stream",
     "text": [
      "Model: \"model_1\"\n",
      "__________________________________________________________________________________________________\n",
      " Layer (type)                   Output Shape         Param #     Connected to                     \n",
      "==================================================================================================\n",
      " input_1 (InputLayer)           [(None, None)]       0           []                               \n",
      "                                                                                                  \n",
      " embedding_1 (Embedding)        (None, None, 16)     1520        ['input_1[0][0]']                \n",
      "                                                                                                  \n",
      " input_2 (InputLayer)           [(None, None, 100)]  0           []                               \n",
      "                                                                                                  \n",
      " input_3 (InputLayer)           [(None, None, 2)]    0           []                               \n",
      "                                                                                                  \n",
      " dense_1 (Dense)                (None, None, 64)     1088        ['embedding_1[0][0]']            \n",
      "                                                                                                  \n",
      " dense_3 (Dense)                (None, None, 64)     6464        ['input_2[0][0]']                \n",
      "                                                                                                  \n",
      " dense_5 (Dense)                (None, None, 64)     192         ['input_3[0][0]']                \n",
      "                                                                                                  \n",
      " dense_2 (Dense)                (None, None, 32)     2080        ['dense_1[0][0]']                \n",
      "                                                                                                  \n",
      " dense_4 (Dense)                (None, None, 32)     2080        ['dense_3[0][0]']                \n",
      "                                                                                                  \n",
      " dense_6 (Dense)                (None, None, 32)     2080        ['dense_5[0][0]']                \n",
      "                                                                                                  \n",
      " input_4 (InputLayer)           [(None, None)]       0           []                               \n",
      "                                                                                                  \n",
      " input_5 (InputLayer)           [(None, None)]       0           []                               \n",
      "                                                                                                  \n",
      " input_6 (InputLayer)           [(None, None)]       0           []                               \n",
      "                                                                                                  \n",
      " input_7 (InputLayer)           [(None, None)]       0           []                               \n",
      "                                                                                                  \n",
      " meg_net_layer_1 (MEGNetLayer)  [(None, None, 32),   39392       ['dense_2[0][0]',                \n",
      "                                 (None, None, 32),                'dense_4[0][0]',                \n",
      "                                 (1, None, 32)]                   'dense_6[0][0]',                \n",
      "                                                                  'input_4[0][0]',                \n",
      "                                                                  'input_5[0][0]',                \n",
      "                                                                  'input_6[0][0]',                \n",
      "                                                                  'input_7[0][0]']                \n",
      "                                                                                                  \n",
      " add_1 (Add)                    (None, None, 32)     0           ['dense_2[0][0]',                \n",
      "                                                                  'meg_net_layer_1[0][0]']        \n",
      "                                                                                                  \n",
      " add_2 (Add)                    (None, None, 32)     0           ['dense_4[0][0]',                \n",
      "                                                                  'meg_net_layer_1[0][1]']        \n",
      "                                                                                                  \n",
      " add_3 (Add)                    (None, None, 32)     0           ['dense_6[0][0]',                \n",
      "                                                                  'meg_net_layer_1[0][2]']        \n",
      "                                                                                                  \n",
      " dense_7 (Dense)                (None, None, 64)     2112        ['add_1[0][0]']                  \n",
      "                                                                                                  \n",
      " dense_9 (Dense)                (None, None, 64)     2112        ['add_2[0][0]']                  \n",
      "                                                                                                  \n",
      " dense_11 (Dense)               (None, None, 64)     2112        ['add_3[0][0]']                  \n",
      "                                                                                                  \n",
      " dense_8 (Dense)                (None, None, 32)     2080        ['dense_7[0][0]']                \n",
      "                                                                                                  \n",
      " dense_10 (Dense)               (None, None, 32)     2080        ['dense_9[0][0]']                \n",
      "                                                                                                  \n",
      " dense_12 (Dense)               (None, None, 32)     2080        ['dense_11[0][0]']               \n",
      "                                                                                                  \n",
      " meg_net_layer_2 (MEGNetLayer)  [(None, None, 32),   39392       ['dense_8[0][0]',                \n",
      "                                 (None, None, 32),                'dense_10[0][0]',               \n",
      "                                 (1, None, 32)]                   'dense_12[0][0]',               \n",
      "                                                                  'input_4[0][0]',                \n",
      "                                                                  'input_5[0][0]',                \n",
      "                                                                  'input_6[0][0]',                \n",
      "                                                                  'input_7[0][0]']                \n",
      "                                                                                                  \n",
      " add_4 (Add)                    (None, None, 32)     0           ['add_1[0][0]',                  \n",
      "                                                                  'meg_net_layer_2[0][0]']        \n",
      "                                                                                                  \n",
      " add_5 (Add)                    (None, None, 32)     0           ['add_2[0][0]',                  \n",
      "                                                                  'meg_net_layer_2[0][1]']        \n",
      "                                                                                                  \n",
      " add_6 (Add)                    (None, None, 32)     0           ['add_3[0][0]',                  \n",
      "                                                                  'meg_net_layer_2[0][2]']        \n",
      "                                                                                                  \n",
      " dense_13 (Dense)               (None, None, 64)     2112        ['add_4[0][0]']                  \n",
      "                                                                                                  \n",
      " dense_15 (Dense)               (None, None, 64)     2112        ['add_5[0][0]']                  \n",
      "                                                                                                  \n",
      " dense_17 (Dense)               (None, None, 64)     2112        ['add_6[0][0]']                  \n",
      "                                                                                                  \n"
     ]
    },
    {
     "name": "stdout",
     "output_type": "stream",
     "text": [
      " dense_14 (Dense)               (None, None, 32)     2080        ['dense_13[0][0]']               \n",
      "                                                                                                  \n",
      " dense_16 (Dense)               (None, None, 32)     2080        ['dense_15[0][0]']               \n",
      "                                                                                                  \n",
      " dense_18 (Dense)               (None, None, 32)     2080        ['dense_17[0][0]']               \n",
      "                                                                                                  \n",
      " meg_net_layer_3 (MEGNetLayer)  [(None, None, 32),   39392       ['dense_14[0][0]',               \n",
      "                                 (None, None, 32),                'dense_16[0][0]',               \n",
      "                                 (1, None, 32)]                   'dense_18[0][0]',               \n",
      "                                                                  'input_4[0][0]',                \n",
      "                                                                  'input_5[0][0]',                \n",
      "                                                                  'input_6[0][0]',                \n",
      "                                                                  'input_7[0][0]']                \n",
      "                                                                                                  \n",
      " add_7 (Add)                    (None, None, 32)     0           ['add_4[0][0]',                  \n",
      "                                                                  'meg_net_layer_3[0][0]']        \n",
      "                                                                                                  \n",
      " add_8 (Add)                    (None, None, 32)     0           ['add_5[0][0]',                  \n",
      "                                                                  'meg_net_layer_3[0][1]']        \n",
      "                                                                                                  \n",
      " set2_set_1 (Set2Set)           (None, None, 32)     2640        ['add_7[0][0]',                  \n",
      "                                                                  'input_6[0][0]']                \n",
      "                                                                                                  \n",
      " set2_set_2 (Set2Set)           (None, None, 32)     2640        ['add_8[0][0]',                  \n",
      "                                                                  'input_7[0][0]']                \n",
      "                                                                                                  \n",
      " add_9 (Add)                    (None, None, 32)     0           ['add_6[0][0]',                  \n",
      "                                                                  'meg_net_layer_3[0][2]']        \n",
      "                                                                                                  \n",
      " concatenate_1 (Concatenate)    (None, None, 96)     0           ['set2_set_1[0][0]',             \n",
      "                                                                  'set2_set_2[0][0]',             \n",
      "                                                                  'add_9[0][0]']                  \n",
      "                                                                                                  \n",
      " dense_19 (Dense)               (None, None, 32)     3104        ['concatenate_1[0][0]']          \n",
      "                                                                                                  \n",
      " dense_20 (Dense)               (None, None, 16)     528         ['dense_19[0][0]']               \n",
      "                                                                                                  \n",
      " dense_21 (Dense)               (None, None, 1)      17          ['dense_20[0][0]']               \n",
      "                                                                                                  \n",
      "==================================================================================================\n",
      "Total params: 167,761\n",
      "Trainable params: 167,761\n",
      "Non-trainable params: 0\n",
      "__________________________________________________________________________________________________\n"
     ]
    }
   ],
   "source": [
    "model.summary() "
   ]
  },
  {
   "cell_type": "code",
   "execution_count": 28,
   "id": "2ef5ee90",
   "metadata": {},
   "outputs": [
    {
     "name": "stdout",
     "output_type": "stream",
     "text": [
      "<keras.engine.functional.Functional object at 0x7f59352bc760>\n"
     ]
    },
    {
     "data": {
      "text/plain": [
       "array([[[13.070421  , 10.564552  , -0.69314694, -0.6929809 ,\n",
       "         -0.66214794,  1.9711747 , -0.63254917,  6.2008176 ,\n",
       "         -0.6843377 , 23.616339  , -0.6931472 , -0.600617  ,\n",
       "         -0.65579194, -0.6737697 ,  5.7335253 , -0.6930797 ,\n",
       "         -0.6931466 , -0.6931472 , -0.69314706, -0.68076956,\n",
       "          0.86391586, 11.924592  , -0.6044154 , -0.29584667,\n",
       "         -0.6827061 , -0.6931448 , -0.6916665 , -0.6927845 ,\n",
       "         -0.69311845, -0.6359574 , -0.69314694, -0.69314146]]],\n",
       "      dtype=float32)"
      ]
     },
     "execution_count": 28,
     "metadata": {},
     "output_type": "execute_result"
    }
   ],
   "source": [
    "#model.summary()\n",
    "import numpy as np\n",
    "s=data.df_structure['structure'][0]\n",
    "from keras.models import Model\n",
    "\n",
    "intermediate_layer_model = Model(inputs=model.input,\n",
    "                                 outputs=model.layers[-3].output)\n",
    "print(intermediate_layer_model)\n",
    "graph = model.graph_converter.convert(s)\n",
    "inp = model.graph_converter.graph_to_input(graph)\n",
    "pred = intermediate_layer_model.predict(inp, verbose=False)\n",
    "pred\n",
    "###intermediate_layer_model.input\n",
    "\n",
    "#intermediate_output = intermediate_layer_model.predict(data)\n",
    "#     tmp_output = tmp_model.predict_structure(s)[0]\n",
    "#     layer_outputs.append(tmp_output)\n",
    "# model.predict_structure(s).ravel()[0]\n",
    "# model.predict_structure(s)\n",
    "# model.layers[-3].output\n",
    "# from keras import backend as K\n",
    "\n",
    "# inp = model.input                                           # input placeholder\n",
    "# outputs = [layer.output for layer in [model.layers[-3]]]          # all layer outputs\n",
    "# functors = [K.function([inp], [out]) for out in outputs]    # evaluation functions\n",
    "\n",
    "# # Testing\n",
    "# graph = model.graph_converter.convert(s)\n",
    "\n",
    "\n",
    "# layer_outs = [func([graph]) for func in functors]\n",
    "# call to fetch the activations of the model.\n",
    "# activations = get_activations(model.predict_structure, s, auto_compile=True)\n",
    "# activations\n",
    "# from keras import backend as K\n",
    "#from megnet.data.crystal import CrystalGraph\n",
    "#from megnet.data.graph import GaussianDistance\n",
    "#graph_converter=CrystalGraph(bond_converter=GaussianDistance(np.linspace(0, 5, 10), 0.5))\n",
    "\n",
    "# from keract import get_activations\n",
    "# s=model.graph_converter.convert(x)\n",
    "# # with a Sequential model\n",
    "# get_embedded_layer_output = K.function([model.layers[1].input],\n",
    "#                                   [model.layers[-3].output])\n",
    "# layer_output = get_3rd_layer_output([s])[0]\n",
    "# layer_output"
   ]
  },
  {
   "cell_type": "code",
   "execution_count": 25,
   "id": "c4b4204e",
   "metadata": {},
   "outputs": [
    {
     "data": {
      "text/plain": [
       "[<KerasTensor: shape=(None, None) dtype=int32 (created by layer 'input_1')>,\n",
       " <KerasTensor: shape=(None, None, 100) dtype=float32 (created by layer 'input_2')>,\n",
       " <KerasTensor: shape=(None, None, 2) dtype=float32 (created by layer 'input_3')>,\n",
       " <KerasTensor: shape=(None, None) dtype=int32 (created by layer 'input_4')>,\n",
       " <KerasTensor: shape=(None, None) dtype=int32 (created by layer 'input_5')>,\n",
       " <KerasTensor: shape=(None, None) dtype=int32 (created by layer 'input_6')>,\n",
       " <KerasTensor: shape=(None, None) dtype=int32 (created by layer 'input_7')>]"
      ]
     },
     "execution_count": 25,
     "metadata": {},
     "output_type": "execute_result"
    }
   ],
   "source": [
    "model.input"
   ]
  },
  {
   "cell_type": "code",
   "execution_count": 19,
   "id": "abaf12a5",
   "metadata": {},
   "outputs": [],
   "source": [
    "# #df_feat=featurizer.featurize_dataframe(data.df_structure.iloc[[5530]], 'structure')\n",
    "# #df_feat, \n",
    "# def nspec(x):\n",
    "#     return len(x.species)\n",
    "# data.df_structure['species']= data.df_structure['structure'].apply(nspec) #.iloc[5530].values[0].species\n",
    "# data.df_structure['species'].sort_values()"
   ]
  },
  {
   "cell_type": "code",
   "execution_count": 52,
   "id": "b20cb0e1",
   "metadata": {},
   "outputs": [
    {
     "data": {
      "text/plain": [
       "Structure Summary\n",
       "Lattice\n",
       "    abc : 3.930170626613603 3.930170626613603 3.930170626613603\n",
       " angles : 90.0 90.0 90.0\n",
       " volume : 60.706363276205764\n",
       "      A : 3.930170626613603 0.0 0.0\n",
       "      B : 0.0 3.930170626613603 0.0\n",
       "      C : 0.0 0.0 3.930170626613603\n",
       "PeriodicSite: Ta (2.6090, 3.9302, 0.0000) [0.6638, 1.0000, 0.0000]\n",
       "PeriodicSite: Ga (0.0259, 1.9651, 1.9651) [0.0066, 0.5000, 0.5000]\n",
       "PeriodicSite: N (3.5263, 3.9302, 1.9651) [0.8972, 1.0000, 0.5000]\n",
       "PeriodicSite: N (3.5263, 1.9651, 3.9302) [0.8972, 0.5000, 1.0000]\n",
       "PeriodicSite: N (1.9054, 1.9651, 1.9651) [0.4848, 0.5000, 0.5000]"
      ]
     },
     "execution_count": 52,
     "metadata": {},
     "output_type": "execute_result"
    }
   ],
   "source": [
    "import pandas as pd\n",
    "pd.set_option('display.max_rows', 500)\n",
    "pd.set_option('display.max_columns', 500)\n",
    "pd.set_option('display.width', 1000)\n",
    "data.df_structure.iloc[5529]['structure']\n"
   ]
  },
  {
   "cell_type": "code",
   "execution_count": 8,
   "id": "f564310f",
   "metadata": {},
   "outputs": [
    {
     "data": {
      "text/html": [
       "<div>\n",
       "<style scoped>\n",
       "    .dataframe tbody tr th:only-of-type {\n",
       "        vertical-align: middle;\n",
       "    }\n",
       "\n",
       "    .dataframe tbody tr th {\n",
       "        vertical-align: top;\n",
       "    }\n",
       "\n",
       "    .dataframe thead th {\n",
       "        text-align: right;\n",
       "    }\n",
       "</style>\n",
       "<table border=\"1\" class=\"dataframe\">\n",
       "  <thead>\n",
       "    <tr style=\"text-align: right;\">\n",
       "      <th></th>\n",
       "      <th>1</th>\n",
       "    </tr>\n",
       "  </thead>\n",
       "  <tbody>\n",
       "    <tr>\n",
       "      <th>1</th>\n",
       "      <td>NaN</td>\n",
       "    </tr>\n",
       "  </tbody>\n",
       "</table>\n",
       "</div>"
      ],
      "text/plain": [
       "     1\n",
       "1  NaN"
      ]
     },
     "execution_count": 8,
     "metadata": {},
     "output_type": "execute_result"
    }
   ],
   "source": []
  },
  {
   "cell_type": "code",
   "execution_count": 20,
   "id": "0ad8b51b",
   "metadata": {},
   "outputs": [],
   "source": [
    "unique=np.array([112,313,145,222,233])\n",
    "ex0=np.array([0.2,0.5])\n",
    "ex=np.array([112,145])\n",
    "zeros=np.zeros(len(unique))\n",
    "\n",
    "toinsert=np.nonzero(np.in1d(unique,ex))[0]\n",
    "unique,ex,ex0,zeros,toinsert\n",
    "zeros[toinsert]=ex0"
   ]
  },
  {
   "cell_type": "code",
   "execution_count": 21,
   "id": "cbb8513c",
   "metadata": {},
   "outputs": [
    {
     "data": {
      "text/plain": [
       "array([0.2, 0. , 0.5, 0. , 0. ])"
      ]
     },
     "execution_count": 21,
     "metadata": {},
     "output_type": "execute_result"
    }
   ],
   "source": [
    "zeros"
   ]
  },
  {
   "cell_type": "code",
   "execution_count": 22,
   "id": "dd5f2cd0",
   "metadata": {},
   "outputs": [],
   "source": [
    "SOAP_matrix=np.array([])"
   ]
  },
  {
   "cell_type": "code",
   "execution_count": 31,
   "id": "e0bca128",
   "metadata": {},
   "outputs": [],
   "source": [
    "x = np.zeros([251340,100])"
   ]
  },
  {
   "cell_type": "code",
   "execution_count": 32,
   "id": "d0392bae",
   "metadata": {},
   "outputs": [
    {
     "data": {
      "text/plain": [
       "201072.0"
      ]
     },
     "execution_count": 32,
     "metadata": {},
     "output_type": "execute_result"
    }
   ],
   "source": [
    "x.nbytes/1000\n"
   ]
  },
  {
   "cell_type": "code",
   "execution_count": null,
   "id": "b74b72a2",
   "metadata": {},
   "outputs": [],
   "source": []
  }
 ],
 "metadata": {
  "kernelspec": {
   "display_name": "Python 3 (ipykernel)",
   "language": "python",
   "name": "python3"
  },
  "language_info": {
   "codemirror_mode": {
    "name": "ipython",
    "version": 3
   },
   "file_extension": ".py",
   "mimetype": "text/x-python",
   "name": "python",
   "nbconvert_exporter": "python",
   "pygments_lexer": "ipython3",
   "version": "3.8.13"
  }
 },
 "nbformat": 4,
 "nbformat_minor": 5
}
